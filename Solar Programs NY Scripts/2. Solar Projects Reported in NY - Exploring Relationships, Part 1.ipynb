{
 "cells": [
  {
   "cell_type": "markdown",
   "id": "3e3ee5c3",
   "metadata": {},
   "source": [
    "## Solar Projects Reported in NY - Exploring Relationships, Part 1"
   ]
  },
  {
   "cell_type": "markdown",
   "id": "8def51aa",
   "metadata": {},
   "source": [
    "### Contents"
   ]
  },
  {
   "cell_type": "markdown",
   "id": "a97849c3",
   "metadata": {},
   "source": [
    "This script includes a set of cleaning tasks, followed by a first exploration of relationships between the variables of the NY solar projects dataset, through a correlation matrix and correlation heatmaps using matplotlib and seaborn libraries. Exploratory visualizations continue in the follow-up script (Solar Projects Reported - Exploring Relantionships Part 2)."
   ]
  },
  {
   "cell_type": "markdown",
   "id": "2d26e177",
   "metadata": {},
   "source": [
    "#### 1. Importing Libraries"
   ]
  },
  {
   "cell_type": "markdown",
   "id": "59f146d7",
   "metadata": {},
   "source": [
    "#### 2. Importing Data"
   ]
  },
  {
   "cell_type": "markdown",
   "id": "98f7e9d8",
   "metadata": {},
   "source": [
    "#### 3. Data Cleaning"
   ]
  },
  {
   "cell_type": "markdown",
   "id": "a17e84e3",
   "metadata": {},
   "source": [
    "#### 4. Exploring Relationships"
   ]
  },
  {
   "cell_type": "markdown",
   "id": "43497cf2",
   "metadata": {},
   "source": [
    "##### 4.1 Correlation Heatmap"
   ]
  },
  {
   "cell_type": "markdown",
   "id": "065b87c9",
   "metadata": {},
   "source": [
    "#### 5. Exporting Clean Data Set"
   ]
  },
  {
   "cell_type": "markdown",
   "id": "e6c169ba",
   "metadata": {},
   "source": [
    "### 1. Importing Libraries"
   ]
  },
  {
   "cell_type": "code",
   "execution_count": 1,
   "id": "f4cc4f26",
   "metadata": {},
   "outputs": [],
   "source": [
    "import pandas as pd\n",
    "import numpy as np\n",
    "import seaborn as sns\n",
    "import matplotlib.pyplot as plt\n",
    "import matplotlib\n",
    "import os"
   ]
  },
  {
   "cell_type": "code",
   "execution_count": 2,
   "id": "0da9ff09",
   "metadata": {},
   "outputs": [
    {
     "data": {
      "text/plain": [
       "'3.5.2'"
      ]
     },
     "execution_count": 2,
     "metadata": {},
     "output_type": "execute_result"
    }
   ],
   "source": [
    "#check matplotlib version\n",
    "matplotlib.__version__"
   ]
  },
  {
   "cell_type": "code",
   "execution_count": 3,
   "id": "2d42948c",
   "metadata": {},
   "outputs": [],
   "source": [
    "#ensure charts are displayed without having to call them specifically\n",
    "%matplotlib inline"
   ]
  },
  {
   "cell_type": "markdown",
   "id": "1a703740",
   "metadata": {},
   "source": [
    "### 2. Importing Data"
   ]
  },
  {
   "cell_type": "code",
   "execution_count": 4,
   "id": "ece67ee7",
   "metadata": {},
   "outputs": [],
   "source": [
    "path= r'C:\\Users\\ii\\OneDrive\\02052023Solar Programs NY'"
   ]
  },
  {
   "cell_type": "code",
   "execution_count": 5,
   "id": "e1a4e985",
   "metadata": {},
   "outputs": [
    {
     "data": {
      "text/plain": [
       "'C:\\\\Users\\\\isobr\\\\OneDrive\\\\02052023Solar Programs NY'"
      ]
     },
     "execution_count": 5,
     "metadata": {},
     "output_type": "execute_result"
    }
   ],
   "source": [
    "path"
   ]
  },
  {
   "cell_type": "code",
   "execution_count": 6,
   "id": "ada27906",
   "metadata": {},
   "outputs": [],
   "source": [
    "df_sol = pd.read_pickle(os.path.join(path, '02. Prepared data', 'solar_power.pkl'))"
   ]
  },
  {
   "cell_type": "markdown",
   "id": "a7f11894",
   "metadata": {},
   "source": [
    "### 3. Data Cleaning"
   ]
  },
  {
   "cell_type": "code",
   "execution_count": 7,
   "id": "1a153365",
   "metadata": {},
   "outputs": [
    {
     "data": {
      "text/plain": [
       "Index(['index', 'project_number', 'city', 'county', 'state', 'zip_code',\n",
       "       'sector', 'program_type', 'electric_utility', 'purchase_type',\n",
       "       'date_application_received', 'date_completed', 'project_status',\n",
       "       'total_inverter_quantity', 'total_pv_ module_quantity', 'project_cost',\n",
       "       'incentive', 'total_nameplate_kw_dc', 'expected_kwh_annual_production',\n",
       "       'remote_net_metering', 'affordable_solar',\n",
       "       'community_distributed_generation', 'green_jobs_participant',\n",
       "       'location_data'],\n",
       "      dtype='object')"
      ]
     },
     "execution_count": 7,
     "metadata": {},
     "output_type": "execute_result"
    }
   ],
   "source": [
    "#checking first the columns\n",
    "df_sol.columns"
   ]
  },
  {
   "cell_type": "code",
   "execution_count": 8,
   "id": "2b4f852c",
   "metadata": {},
   "outputs": [],
   "source": [
    "# Shorten the names of some variables, which are too big\n",
    "df_sol.rename(columns = {'total_inverter_quantity' : 'inverter_quantity', 'total_pv_ module_quantity': 'pv_quantity', \n",
    "                     'total_nameplate_kw_dc': 'kw_dc', 'expected_kwh_annual_production': 'kwh_year'},\n",
    "                      inplace = True)"
   ]
  },
  {
   "cell_type": "code",
   "execution_count": 9,
   "id": "fcacd96d",
   "metadata": {},
   "outputs": [
    {
     "name": "stdout",
     "output_type": "stream",
     "text": [
      "<class 'pandas.core.frame.DataFrame'>\n",
      "RangeIndex: 84721 entries, 0 to 84720\n",
      "Data columns (total 24 columns):\n",
      " #   Column                            Non-Null Count  Dtype         \n",
      "---  ------                            --------------  -----         \n",
      " 0   index                             84721 non-null  int64         \n",
      " 1   project_number                    84721 non-null  object        \n",
      " 2   city                              84721 non-null  object        \n",
      " 3   county                            84721 non-null  object        \n",
      " 4   state                             84721 non-null  object        \n",
      " 5   zip_code                          84721 non-null  int64         \n",
      " 6   sector                            84721 non-null  object        \n",
      " 7   program_type                      84721 non-null  object        \n",
      " 8   electric_utility                  84721 non-null  object        \n",
      " 9   purchase_type                     79613 non-null  object        \n",
      " 10  date_application_received         84721 non-null  datetime64[ns]\n",
      " 11  date_completed                    80029 non-null  datetime64[ns]\n",
      " 12  project_status                    84721 non-null  object        \n",
      " 13  inverter_quantity                 80661 non-null  float64       \n",
      " 14  pv_quantity                       80683 non-null  float64       \n",
      " 15  project_cost                      84534 non-null  float64       \n",
      " 16  incentive                         84707 non-null  float64       \n",
      " 17  kw_dc                             84721 non-null  float64       \n",
      " 18  kwh_year                          84721 non-null  float64       \n",
      " 19  remote_net_metering               45206 non-null  object        \n",
      " 20  affordable_solar                  84721 non-null  bool          \n",
      " 21  community_distributed_generation  84721 non-null  bool          \n",
      " 22  green_jobs_participant            7298 non-null   object        \n",
      " 23  location_data                     84721 non-null  object        \n",
      "dtypes: bool(2), datetime64[ns](2), float64(6), int64(2), object(12)\n",
      "memory usage: 14.4+ MB\n"
     ]
    }
   ],
   "source": [
    "df_sol.info()"
   ]
  },
  {
   "cell_type": "markdown",
   "id": "0fca6ac9",
   "metadata": {},
   "source": [
    "To continue the data cleaning which I started in the previous script, the decision is to eliminate all entries with missing values, which still leaves us with a large dataset to work with. "
   ]
  },
  {
   "cell_type": "code",
   "execution_count": 10,
   "id": "b040de76",
   "metadata": {},
   "outputs": [],
   "source": [
    "# reduce the dataset and eliminate all entries with missing values\n",
    "df_sol=df_sol.dropna(subset=['purchase_type','inverter_quantity','pv_quantity','project_cost', 'incentive'])"
   ]
  },
  {
   "cell_type": "code",
   "execution_count": 11,
   "id": "b4783aad",
   "metadata": {},
   "outputs": [
    {
     "data": {
      "text/plain": [
       "(75564, 24)"
      ]
     },
     "execution_count": 11,
     "metadata": {},
     "output_type": "execute_result"
    }
   ],
   "source": [
    "df_sol.shape"
   ]
  },
  {
   "cell_type": "code",
   "execution_count": 12,
   "id": "76cd25b0",
   "metadata": {},
   "outputs": [
    {
     "name": "stdout",
     "output_type": "stream",
     "text": [
      "<class 'pandas.core.frame.DataFrame'>\n",
      "Int64Index: 75564 entries, 0 to 84720\n",
      "Data columns (total 24 columns):\n",
      " #   Column                            Non-Null Count  Dtype         \n",
      "---  ------                            --------------  -----         \n",
      " 0   index                             75564 non-null  int64         \n",
      " 1   project_number                    75564 non-null  object        \n",
      " 2   city                              75564 non-null  object        \n",
      " 3   county                            75564 non-null  object        \n",
      " 4   state                             75564 non-null  object        \n",
      " 5   zip_code                          75564 non-null  int64         \n",
      " 6   sector                            75564 non-null  object        \n",
      " 7   program_type                      75564 non-null  object        \n",
      " 8   electric_utility                  75564 non-null  object        \n",
      " 9   purchase_type                     75564 non-null  object        \n",
      " 10  date_application_received         75564 non-null  datetime64[ns]\n",
      " 11  date_completed                    70902 non-null  datetime64[ns]\n",
      " 12  project_status                    75564 non-null  object        \n",
      " 13  inverter_quantity                 75564 non-null  float64       \n",
      " 14  pv_quantity                       75564 non-null  float64       \n",
      " 15  project_cost                      75564 non-null  float64       \n",
      " 16  incentive                         75564 non-null  float64       \n",
      " 17  kw_dc                             75564 non-null  float64       \n",
      " 18  kwh_year                          75564 non-null  float64       \n",
      " 19  remote_net_metering               45198 non-null  object        \n",
      " 20  affordable_solar                  75564 non-null  bool          \n",
      " 21  community_distributed_generation  75564 non-null  bool          \n",
      " 22  green_jobs_participant            7298 non-null   object        \n",
      " 23  location_data                     75564 non-null  object        \n",
      "dtypes: bool(2), datetime64[ns](2), float64(6), int64(2), object(12)\n",
      "memory usage: 13.4+ MB\n"
     ]
    }
   ],
   "source": [
    "df_sol.info()"
   ]
  },
  {
   "cell_type": "code",
   "execution_count": 13,
   "id": "cb2419b1",
   "metadata": {},
   "outputs": [],
   "source": [
    "#In addition I will also delete the columns date_completed, green_jobs participant and remote_net metering, since they are not critical for the analysis and have a lot of missing values\n",
    "df_sol=df_sol.drop(columns = ['date_completed','remote_net_metering','green_jobs_participant'])"
   ]
  },
  {
   "cell_type": "code",
   "execution_count": 14,
   "id": "c9955553",
   "metadata": {},
   "outputs": [
    {
     "data": {
      "text/plain": [
       "index                               0\n",
       "project_number                      0\n",
       "city                                0\n",
       "county                              0\n",
       "state                               0\n",
       "zip_code                            0\n",
       "sector                              0\n",
       "program_type                        0\n",
       "electric_utility                    0\n",
       "purchase_type                       0\n",
       "date_application_received           0\n",
       "project_status                      0\n",
       "inverter_quantity                   0\n",
       "pv_quantity                         0\n",
       "project_cost                        0\n",
       "incentive                           0\n",
       "kw_dc                               0\n",
       "kwh_year                            0\n",
       "affordable_solar                    0\n",
       "community_distributed_generation    0\n",
       "location_data                       0\n",
       "dtype: int64"
      ]
     },
     "execution_count": 14,
     "metadata": {},
     "output_type": "execute_result"
    }
   ],
   "source": [
    "#now double checking there are no more missing values\n",
    "df_sol.isnull().sum() "
   ]
  },
  {
   "cell_type": "code",
   "execution_count": 15,
   "id": "37095f46",
   "metadata": {},
   "outputs": [
    {
     "data": {
      "text/plain": [
       "(75564, 21)"
      ]
     },
     "execution_count": 15,
     "metadata": {},
     "output_type": "execute_result"
    }
   ],
   "source": [
    "#No missing values\n",
    "df_sol.shape # still with a nice-sized dataset!"
   ]
  },
  {
   "cell_type": "code",
   "execution_count": 16,
   "id": "0240408d",
   "metadata": {},
   "outputs": [
    {
     "data": {
      "text/html": [
       "<div>\n",
       "<style scoped>\n",
       "    .dataframe tbody tr th:only-of-type {\n",
       "        vertical-align: middle;\n",
       "    }\n",
       "\n",
       "    .dataframe tbody tr th {\n",
       "        vertical-align: top;\n",
       "    }\n",
       "\n",
       "    .dataframe thead th {\n",
       "        text-align: right;\n",
       "    }\n",
       "</style>\n",
       "<table border=\"1\" class=\"dataframe\">\n",
       "  <thead>\n",
       "    <tr style=\"text-align: right;\">\n",
       "      <th></th>\n",
       "      <th>index</th>\n",
       "      <th>zip_code</th>\n",
       "      <th>inverter_quantity</th>\n",
       "      <th>pv_quantity</th>\n",
       "      <th>project_cost</th>\n",
       "      <th>incentive</th>\n",
       "      <th>kw_dc</th>\n",
       "      <th>kwh_year</th>\n",
       "    </tr>\n",
       "  </thead>\n",
       "  <tbody>\n",
       "    <tr>\n",
       "      <th>count</th>\n",
       "      <td>75564.000000</td>\n",
       "      <td>75564.000000</td>\n",
       "      <td>75564.000000</td>\n",
       "      <td>75564.000000</td>\n",
       "      <td>7.556400e+04</td>\n",
       "      <td>7.556400e+04</td>\n",
       "      <td>75564.000000</td>\n",
       "      <td>7.556400e+04</td>\n",
       "    </tr>\n",
       "    <tr>\n",
       "      <th>mean</th>\n",
       "      <td>43476.843973</td>\n",
       "      <td>11891.304867</td>\n",
       "      <td>8.759515</td>\n",
       "      <td>76.110330</td>\n",
       "      <td>6.627893e+04</td>\n",
       "      <td>1.027799e+04</td>\n",
       "      <td>23.278069</td>\n",
       "      <td>2.732383e+04</td>\n",
       "    </tr>\n",
       "    <tr>\n",
       "      <th>std</th>\n",
       "      <td>25280.195722</td>\n",
       "      <td>1086.421929</td>\n",
       "      <td>16.143618</td>\n",
       "      <td>569.671727</td>\n",
       "      <td>3.644918e+05</td>\n",
       "      <td>6.235566e+04</td>\n",
       "      <td>190.160234</td>\n",
       "      <td>2.232177e+05</td>\n",
       "    </tr>\n",
       "    <tr>\n",
       "      <th>min</th>\n",
       "      <td>0.000000</td>\n",
       "      <td>501.000000</td>\n",
       "      <td>1.000000</td>\n",
       "      <td>1.000000</td>\n",
       "      <td>1.500000e+02</td>\n",
       "      <td>0.000000e+00</td>\n",
       "      <td>0.250000</td>\n",
       "      <td>2.930000e+02</td>\n",
       "    </tr>\n",
       "    <tr>\n",
       "      <th>25%</th>\n",
       "      <td>20409.750000</td>\n",
       "      <td>11210.000000</td>\n",
       "      <td>1.000000</td>\n",
       "      <td>19.000000</td>\n",
       "      <td>2.227295e+04</td>\n",
       "      <td>1.930000e+03</td>\n",
       "      <td>5.220000</td>\n",
       "      <td>6.127000e+03</td>\n",
       "    </tr>\n",
       "    <tr>\n",
       "      <th>50%</th>\n",
       "      <td>45748.500000</td>\n",
       "      <td>11756.000000</td>\n",
       "      <td>1.000000</td>\n",
       "      <td>26.000000</td>\n",
       "      <td>3.121200e+04</td>\n",
       "      <td>3.320000e+03</td>\n",
       "      <td>7.200000</td>\n",
       "      <td>8.452000e+03</td>\n",
       "    </tr>\n",
       "    <tr>\n",
       "      <th>75%</th>\n",
       "      <td>65790.250000</td>\n",
       "      <td>12458.000000</td>\n",
       "      <td>14.000000</td>\n",
       "      <td>36.000000</td>\n",
       "      <td>4.368000e+04</td>\n",
       "      <td>6.160000e+03</td>\n",
       "      <td>9.950000</td>\n",
       "      <td>1.167400e+04</td>\n",
       "    </tr>\n",
       "    <tr>\n",
       "      <th>max</th>\n",
       "      <td>84720.000000</td>\n",
       "      <td>15787.000000</td>\n",
       "      <td>800.000000</td>\n",
       "      <td>14800.000000</td>\n",
       "      <td>2.267184e+07</td>\n",
       "      <td>2.750673e+06</td>\n",
       "      <td>5799.420000</td>\n",
       "      <td>6.807591e+06</td>\n",
       "    </tr>\n",
       "  </tbody>\n",
       "</table>\n",
       "</div>"
      ],
      "text/plain": [
       "              index      zip_code  inverter_quantity   pv_quantity  \\\n",
       "count  75564.000000  75564.000000       75564.000000  75564.000000   \n",
       "mean   43476.843973  11891.304867           8.759515     76.110330   \n",
       "std    25280.195722   1086.421929          16.143618    569.671727   \n",
       "min        0.000000    501.000000           1.000000      1.000000   \n",
       "25%    20409.750000  11210.000000           1.000000     19.000000   \n",
       "50%    45748.500000  11756.000000           1.000000     26.000000   \n",
       "75%    65790.250000  12458.000000          14.000000     36.000000   \n",
       "max    84720.000000  15787.000000         800.000000  14800.000000   \n",
       "\n",
       "       project_cost     incentive         kw_dc      kwh_year  \n",
       "count  7.556400e+04  7.556400e+04  75564.000000  7.556400e+04  \n",
       "mean   6.627893e+04  1.027799e+04     23.278069  2.732383e+04  \n",
       "std    3.644918e+05  6.235566e+04    190.160234  2.232177e+05  \n",
       "min    1.500000e+02  0.000000e+00      0.250000  2.930000e+02  \n",
       "25%    2.227295e+04  1.930000e+03      5.220000  6.127000e+03  \n",
       "50%    3.121200e+04  3.320000e+03      7.200000  8.452000e+03  \n",
       "75%    4.368000e+04  6.160000e+03      9.950000  1.167400e+04  \n",
       "max    2.267184e+07  2.750673e+06   5799.420000  6.807591e+06  "
      ]
     },
     "execution_count": 16,
     "metadata": {},
     "output_type": "execute_result"
    }
   ],
   "source": [
    "df_sol.describe()"
   ]
  },
  {
   "cell_type": "markdown",
   "id": "43cd9eb1",
   "metadata": {},
   "source": [
    "### 4. Exploring Relationships"
   ]
  },
  {
   "cell_type": "code",
   "execution_count": 17,
   "id": "07dfb3c1",
   "metadata": {},
   "outputs": [
    {
     "data": {
      "text/plain": [
       "Index(['index', 'project_number', 'city', 'county', 'state', 'zip_code',\n",
       "       'sector', 'program_type', 'electric_utility', 'purchase_type',\n",
       "       'date_application_received', 'project_status', 'inverter_quantity',\n",
       "       'pv_quantity', 'project_cost', 'incentive', 'kw_dc', 'kwh_year',\n",
       "       'affordable_solar', 'community_distributed_generation',\n",
       "       'location_data'],\n",
       "      dtype='object')"
      ]
     },
     "execution_count": 17,
     "metadata": {},
     "output_type": "execute_result"
    }
   ],
   "source": [
    "df_sol.columns"
   ]
  },
  {
   "cell_type": "code",
   "execution_count": 18,
   "id": "0c04f0b1",
   "metadata": {},
   "outputs": [],
   "source": [
    "#creating a subset of the data to check for correlations\n",
    "df_sol_cor=df_sol[['inverter_quantity', 'pv_quantity','project_cost','incentive', 'kw_dc','kwh_year']]"
   ]
  },
  {
   "cell_type": "code",
   "execution_count": 19,
   "id": "23b9f7a7",
   "metadata": {},
   "outputs": [
    {
     "data": {
      "text/html": [
       "<div>\n",
       "<style scoped>\n",
       "    .dataframe tbody tr th:only-of-type {\n",
       "        vertical-align: middle;\n",
       "    }\n",
       "\n",
       "    .dataframe tbody tr th {\n",
       "        vertical-align: top;\n",
       "    }\n",
       "\n",
       "    .dataframe thead th {\n",
       "        text-align: right;\n",
       "    }\n",
       "</style>\n",
       "<table border=\"1\" class=\"dataframe\">\n",
       "  <thead>\n",
       "    <tr style=\"text-align: right;\">\n",
       "      <th></th>\n",
       "      <th>inverter_quantity</th>\n",
       "      <th>pv_quantity</th>\n",
       "      <th>project_cost</th>\n",
       "      <th>incentive</th>\n",
       "      <th>kw_dc</th>\n",
       "      <th>kwh_year</th>\n",
       "    </tr>\n",
       "  </thead>\n",
       "  <tbody>\n",
       "    <tr>\n",
       "      <th>0</th>\n",
       "      <td>2.0</td>\n",
       "      <td>40.0</td>\n",
       "      <td>41800.00</td>\n",
       "      <td>6930.0</td>\n",
       "      <td>10.00</td>\n",
       "      <td>11738.0</td>\n",
       "    </tr>\n",
       "    <tr>\n",
       "      <th>1</th>\n",
       "      <td>1.0</td>\n",
       "      <td>28.0</td>\n",
       "      <td>30940.00</td>\n",
       "      <td>2520.0</td>\n",
       "      <td>7.00</td>\n",
       "      <td>8217.0</td>\n",
       "    </tr>\n",
       "    <tr>\n",
       "      <th>2</th>\n",
       "      <td>2.0</td>\n",
       "      <td>49.0</td>\n",
       "      <td>48387.50</td>\n",
       "      <td>11025.0</td>\n",
       "      <td>12.25</td>\n",
       "      <td>14380.0</td>\n",
       "    </tr>\n",
       "    <tr>\n",
       "      <th>3</th>\n",
       "      <td>1.0</td>\n",
       "      <td>15.0</td>\n",
       "      <td>23509.54</td>\n",
       "      <td>2943.0</td>\n",
       "      <td>4.91</td>\n",
       "      <td>5758.0</td>\n",
       "    </tr>\n",
       "    <tr>\n",
       "      <th>4</th>\n",
       "      <td>1.0</td>\n",
       "      <td>22.0</td>\n",
       "      <td>25283.00</td>\n",
       "      <td>5720.0</td>\n",
       "      <td>5.72</td>\n",
       "      <td>6714.0</td>\n",
       "    </tr>\n",
       "  </tbody>\n",
       "</table>\n",
       "</div>"
      ],
      "text/plain": [
       "   inverter_quantity  pv_quantity  project_cost  incentive  kw_dc  kwh_year\n",
       "0                2.0         40.0      41800.00     6930.0  10.00   11738.0\n",
       "1                1.0         28.0      30940.00     2520.0   7.00    8217.0\n",
       "2                2.0         49.0      48387.50    11025.0  12.25   14380.0\n",
       "3                1.0         15.0      23509.54     2943.0   4.91    5758.0\n",
       "4                1.0         22.0      25283.00     5720.0   5.72    6714.0"
      ]
     },
     "execution_count": 19,
     "metadata": {},
     "output_type": "execute_result"
    }
   ],
   "source": [
    "df_sol_cor.head()"
   ]
  },
  {
   "cell_type": "code",
   "execution_count": 20,
   "id": "540756a4",
   "metadata": {},
   "outputs": [
    {
     "data": {
      "text/html": [
       "<div>\n",
       "<style scoped>\n",
       "    .dataframe tbody tr th:only-of-type {\n",
       "        vertical-align: middle;\n",
       "    }\n",
       "\n",
       "    .dataframe tbody tr th {\n",
       "        vertical-align: top;\n",
       "    }\n",
       "\n",
       "    .dataframe thead th {\n",
       "        text-align: right;\n",
       "    }\n",
       "</style>\n",
       "<table border=\"1\" class=\"dataframe\">\n",
       "  <thead>\n",
       "    <tr style=\"text-align: right;\">\n",
       "      <th></th>\n",
       "      <th>inverter_quantity</th>\n",
       "      <th>pv_quantity</th>\n",
       "      <th>project_cost</th>\n",
       "      <th>incentive</th>\n",
       "      <th>kw_dc</th>\n",
       "      <th>kwh_year</th>\n",
       "    </tr>\n",
       "  </thead>\n",
       "  <tbody>\n",
       "    <tr>\n",
       "      <th>inverter_quantity</th>\n",
       "      <td>1.000000</td>\n",
       "      <td>0.092632</td>\n",
       "      <td>0.100355</td>\n",
       "      <td>0.085091</td>\n",
       "      <td>0.095024</td>\n",
       "      <td>0.095023</td>\n",
       "    </tr>\n",
       "    <tr>\n",
       "      <th>pv_quantity</th>\n",
       "      <td>0.092632</td>\n",
       "      <td>1.000000</td>\n",
       "      <td>0.928155</td>\n",
       "      <td>0.916498</td>\n",
       "      <td>0.982252</td>\n",
       "      <td>0.982252</td>\n",
       "    </tr>\n",
       "    <tr>\n",
       "      <th>project_cost</th>\n",
       "      <td>0.100355</td>\n",
       "      <td>0.928155</td>\n",
       "      <td>1.000000</td>\n",
       "      <td>0.883152</td>\n",
       "      <td>0.948700</td>\n",
       "      <td>0.948700</td>\n",
       "    </tr>\n",
       "    <tr>\n",
       "      <th>incentive</th>\n",
       "      <td>0.085091</td>\n",
       "      <td>0.916498</td>\n",
       "      <td>0.883152</td>\n",
       "      <td>1.000000</td>\n",
       "      <td>0.924864</td>\n",
       "      <td>0.924864</td>\n",
       "    </tr>\n",
       "    <tr>\n",
       "      <th>kw_dc</th>\n",
       "      <td>0.095024</td>\n",
       "      <td>0.982252</td>\n",
       "      <td>0.948700</td>\n",
       "      <td>0.924864</td>\n",
       "      <td>1.000000</td>\n",
       "      <td>1.000000</td>\n",
       "    </tr>\n",
       "    <tr>\n",
       "      <th>kwh_year</th>\n",
       "      <td>0.095023</td>\n",
       "      <td>0.982252</td>\n",
       "      <td>0.948700</td>\n",
       "      <td>0.924864</td>\n",
       "      <td>1.000000</td>\n",
       "      <td>1.000000</td>\n",
       "    </tr>\n",
       "  </tbody>\n",
       "</table>\n",
       "</div>"
      ],
      "text/plain": [
       "                   inverter_quantity  pv_quantity  project_cost  incentive  \\\n",
       "inverter_quantity           1.000000     0.092632      0.100355   0.085091   \n",
       "pv_quantity                 0.092632     1.000000      0.928155   0.916498   \n",
       "project_cost                0.100355     0.928155      1.000000   0.883152   \n",
       "incentive                   0.085091     0.916498      0.883152   1.000000   \n",
       "kw_dc                       0.095024     0.982252      0.948700   0.924864   \n",
       "kwh_year                    0.095023     0.982252      0.948700   0.924864   \n",
       "\n",
       "                      kw_dc  kwh_year  \n",
       "inverter_quantity  0.095024  0.095023  \n",
       "pv_quantity        0.982252  0.982252  \n",
       "project_cost       0.948700  0.948700  \n",
       "incentive          0.924864  0.924864  \n",
       "kw_dc              1.000000  1.000000  \n",
       "kwh_year           1.000000  1.000000  "
      ]
     },
     "execution_count": 20,
     "metadata": {},
     "output_type": "execute_result"
    }
   ],
   "source": [
    "df_sol_cor.corr()"
   ]
  },
  {
   "cell_type": "markdown",
   "id": "8f474c1a",
   "metadata": {},
   "source": [
    "The correlation matrix shows the correlation coefficients for all the numeric variables of the subset. Some are quite striking, for instance, there is a positive and strong correlation between total_pv_module_quantity and incentive (the coefficient is 0.9), and between project cost and incentive (coefficient is 0.8). Also pv_quantity and kwh_year have a very strong positive correlation. Finally, kw_dc and kwh_year have a perfect positive correlaton. There are no negative correlations."
   ]
  },
  {
   "cell_type": "markdown",
   "id": "1e5d4ed6",
   "metadata": {},
   "source": [
    "#### 4.1 Correlation Heatmap"
   ]
  },
  {
   "cell_type": "code",
   "execution_count": 21,
   "id": "4889f23c",
   "metadata": {},
   "outputs": [
    {
     "data": {
      "image/png": "[encoded data removed]",
      "text/plain": [
       "<Figure size 480x480 with 1 Axes>"
      ]
     },
     "metadata": {},
     "output_type": "display_data"
    }
   ],
   "source": [
    "#creating a correlation heatmap with matplotlib\n",
    "plt.matshow(df_sol_cor.corr())\n",
    "plt.show()"
   ]
  },
  {
   "cell_type": "code",
   "execution_count": 22,
   "id": "1fd49316",
   "metadata": {},
   "outputs": [
    {
     "data": {
      "text/plain": [
       "Text(0.5, 1.0, 'Correlation Matrix for Solar Energy Projects')"
      ]
     },
     "execution_count": 22,
     "metadata": {},
     "output_type": "execute_result"
    },
    {
     "data": {
      "image/png": "[encoded data removed]",
      "text/plain": [
       "<Figure size 800x800 with 2 Axes>"
      ]
     },
     "metadata": {},
     "output_type": "display_data"
    }
   ],
   "source": [
    "#creating a correlation heatmap with matplotlib, now adding more elements\n",
    "f = plt.figure(figsize=(8, 8)) # figure size \n",
    "plt.matshow(df_sol_cor.corr(), fignum=f.number) # type of plot\n",
    "plt.xticks(range(df_sol_cor.shape[1]), df_sol_cor.columns, fontsize=12, rotation=90) # x axis labels\n",
    "plt.yticks(range(df_sol_cor.shape[1]), df_sol_cor.columns, fontsize=12) # y axis labels\n",
    "cb = plt.colorbar() # add a colour legend (called colorbar)\n",
    "cb.ax.tick_params(labelsize=14) # add font size\n",
    "plt.title('Correlation Matrix for Solar Energy Projects', fontsize=12) # add title"
   ]
  },
  {
   "cell_type": "code",
   "execution_count": 23,
   "id": "36512928",
   "metadata": {},
   "outputs": [
    {
     "data": {
      "text/plain": [
       "<Figure size 640x480 with 0 Axes>"
      ]
     },
     "metadata": {},
     "output_type": "display_data"
    }
   ],
   "source": [
    "# Save figure\n",
    "plt.savefig(\"fig1.png\") "
   ]
  },
  {
   "cell_type": "code",
   "execution_count": 24,
   "id": "2902cdaf",
   "metadata": {},
   "outputs": [
    {
     "data": {
      "text/plain": [
       "'C:\\\\Users\\\\isobr\\\\OneDrive\\\\02052023Solar Programs NY\\\\03. Scripts'"
      ]
     },
     "execution_count": 24,
     "metadata": {},
     "output_type": "execute_result"
    }
   ],
   "source": [
    "#see directory\n",
    "cwd = os.getcwd()\n",
    "cwd"
   ]
  },
  {
   "cell_type": "markdown",
   "id": "1b6703a5",
   "metadata": {},
   "source": [
    "##### Correlation heatmap  using Seaborn"
   ]
  },
  {
   "cell_type": "code",
   "execution_count": 25,
   "id": "d8dcb04a",
   "metadata": {},
   "outputs": [
    {
     "data": {
      "image/png": "[encoded data removed]",
      "text/plain": [
       "<Figure size 1000x1000 with 2 Axes>"
      ]
     },
     "metadata": {},
     "output_type": "display_data"
    }
   ],
   "source": [
    "#Create a subplot with matplotlib\n",
    "f,ax = plt.subplots(figsize=(10,10))\n",
    "#Now create the correlation heatmap in Seaborn, using the 'annot' method to include the coefficients in the heatmap\n",
    "fig2=sns.heatmap(df_sol_cor.corr(), cmap=\"YlGnBu\", annot = True, ax = ax)"
   ]
  },
  {
   "cell_type": "markdown",
   "id": "54c81e25",
   "metadata": {},
   "source": [
    "The heatmap makes it clear where the strongest correllations are. All the correlations are positive. Several variables are strongly correlated, which needs to be accounted for in developing a predictive model. For instance, 'kw_dc' and 'kwh_year' are both positively and perfectly correlated to eachother, which is to be expected for these two variables. The variables 'pv_quantity', 'project_cost' and 'incentive' are all strongly positively correlated to 'kw_dc' and 'kwh_year'. However, 'inverter quantity' is not correlated to any of the variables, except it has a very weak correlation with 'project cost'. "
   ]
  },
  {
   "cell_type": "markdown",
   "id": "e8c6b126",
   "metadata": {},
   "source": [
    "### 5. Exporting Clean Data Set"
   ]
  },
  {
   "cell_type": "code",
   "execution_count": 27,
   "id": "008f30ea",
   "metadata": {},
   "outputs": [],
   "source": [
    "df_sol.to_pickle(os.path.join(path, '02. Prepared data', 'solar_power_clean.pkl'))"
   ]
  }
 ],
 "metadata": {
  "kernelspec": {
   "display_name": "Python 3 (ipykernel)",
   "language": "python",
   "name": "python3"
  },
  "language_info": {
   "codemirror_mode": {
    "name": "ipython",
    "version": 3
   },
   "file_extension": ".py",
   "mimetype": "text/x-python",
   "name": "python",
   "nbconvert_exporter": "python",
   "pygments_lexer": "ipython3",
   "version": "3.9.13"
  }
 },
 "nbformat": 4,
 "nbformat_minor": 5
}
