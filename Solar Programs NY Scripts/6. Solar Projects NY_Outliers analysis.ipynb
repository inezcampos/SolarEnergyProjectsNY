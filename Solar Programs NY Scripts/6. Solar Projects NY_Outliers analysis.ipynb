{
 "cells": [
  {
   "cell_type": "markdown",
   "metadata": {},
   "source": [
    "## Solar Energy Projects - Outlier analysis and regression"
   ]
  },
  {
   "cell_type": "markdown",
   "metadata": {},
   "source": [
    "### Contents\n",
    "#### 1. Importing libraries and data\n",
    "#### 2. Data cleaning (removing outliers)\n",
    "#### 3. Prepare regression analysis\n",
    "##### 3.1 Hypothesis to test\n",
    "#### 4. Regression analysis"
   ]
  },
  {
   "cell_type": "markdown",
   "metadata": {},
   "source": [
    "### 1. Importing libraries and data"
   ]
  },
  {
   "cell_type": "code",
   "execution_count": 44,
   "metadata": {},
   "outputs": [],
   "source": [
    "import pandas as pd\n",
    "import numpy as np\n",
    "import seaborn as sns\n",
    "import matplotlib\n",
    "import matplotlib.pyplot as plt\n",
    "import os\n",
    "import sklearn\n",
    "from sklearn.model_selection import train_test_split \n",
    "from sklearn.linear_model import LinearRegression\n",
    "from sklearn.metrics import mean_squared_error, r2_score"
   ]
  },
  {
   "cell_type": "code",
   "execution_count": 45,
   "metadata": {},
   "outputs": [],
   "source": [
    "# This option ensures that the graphs you create are displayed within the notebook without the need to \"call\" them specifically.\n",
    "\n",
    "%matplotlib inline"
   ]
  },
  {
   "cell_type": "code",
   "execution_count": 46,
   "metadata": {},
   "outputs": [],
   "source": [
    "path = r'C:\\Users\\ii\\OneDrive\\02052023Solar Programs NY'"
   ]
  },
  {
   "cell_type": "code",
   "execution_count": 47,
   "metadata": {},
   "outputs": [],
   "source": [
    "#first uploading the dataset that is already cleaned from previous exercises and includes a new variable - i.e., installation size\n",
    "df1 = pd.read_pickle(os.path.join(path, '02. Prepared data','solar_power_new.pkl'))"
   ]
  },
  {
   "cell_type": "markdown",
   "metadata": {},
   "source": [
    "### 2. Data cleaning (removing outliers)"
   ]
  },
  {
   "cell_type": "code",
   "execution_count": 48,
   "metadata": {
    "scrolled": true
   },
   "outputs": [
    {
     "data": {
      "text/plain": [
       "Index(['index', 'project_number', 'city', 'county', 'state', 'zip_code',\n",
       "       'sector', 'program_type', 'electric_utility', 'purchase_type',\n",
       "       'date_application_received', 'project_status', 'inverter_quantity',\n",
       "       'pv_quantity', 'project_cost', 'incentive', 'kw_dc', 'kwh_year',\n",
       "       'affordable_solar', 'community_distributed_generation', 'location_data',\n",
       "       'installation_size'],\n",
       "      dtype='object')"
      ]
     },
     "execution_count": 48,
     "metadata": {},
     "output_type": "execute_result"
    }
   ],
   "source": [
    "df1.columns"
   ]
  },
  {
   "cell_type": "code",
   "execution_count": 49,
   "metadata": {
    "scrolled": true
   },
   "outputs": [
    {
     "data": {
      "text/html": [
       "<div>\n",
       "<style scoped>\n",
       "    .dataframe tbody tr th:only-of-type {\n",
       "        vertical-align: middle;\n",
       "    }\n",
       "\n",
       "    .dataframe tbody tr th {\n",
       "        vertical-align: top;\n",
       "    }\n",
       "\n",
       "    .dataframe thead th {\n",
       "        text-align: right;\n",
       "    }\n",
       "</style>\n",
       "<table border=\"1\" class=\"dataframe\">\n",
       "  <thead>\n",
       "    <tr style=\"text-align: right;\">\n",
       "      <th></th>\n",
       "      <th>index</th>\n",
       "      <th>project_number</th>\n",
       "      <th>city</th>\n",
       "      <th>county</th>\n",
       "      <th>state</th>\n",
       "      <th>zip_code</th>\n",
       "      <th>sector</th>\n",
       "      <th>program_type</th>\n",
       "      <th>electric_utility</th>\n",
       "      <th>purchase_type</th>\n",
       "      <th>...</th>\n",
       "      <th>inverter_quantity</th>\n",
       "      <th>pv_quantity</th>\n",
       "      <th>project_cost</th>\n",
       "      <th>incentive</th>\n",
       "      <th>kw_dc</th>\n",
       "      <th>kwh_year</th>\n",
       "      <th>affordable_solar</th>\n",
       "      <th>community_distributed_generation</th>\n",
       "      <th>location_data</th>\n",
       "      <th>installation_size</th>\n",
       "    </tr>\n",
       "  </thead>\n",
       "  <tbody>\n",
       "    <tr>\n",
       "      <th>0</th>\n",
       "      <td>0</td>\n",
       "      <td>5137-49041</td>\n",
       "      <td>Maine</td>\n",
       "      <td>Broome</td>\n",
       "      <td>NY</td>\n",
       "      <td>13802</td>\n",
       "      <td>Residential</td>\n",
       "      <td>Residential/Small Commercial</td>\n",
       "      <td>NYS Electric and Gas</td>\n",
       "      <td>Lease</td>\n",
       "      <td>...</td>\n",
       "      <td>2.0</td>\n",
       "      <td>40.0</td>\n",
       "      <td>41800.00</td>\n",
       "      <td>6930.0</td>\n",
       "      <td>10.00</td>\n",
       "      <td>11738.0</td>\n",
       "      <td>False</td>\n",
       "      <td>False</td>\n",
       "      <td>Maine, NY 13802\\n(42.240938, -76.047937)</td>\n",
       "      <td>Small Solar</td>\n",
       "    </tr>\n",
       "    <tr>\n",
       "      <th>1</th>\n",
       "      <td>1</td>\n",
       "      <td>5137-46019</td>\n",
       "      <td>Levittown</td>\n",
       "      <td>Nassau</td>\n",
       "      <td>NY</td>\n",
       "      <td>11756</td>\n",
       "      <td>Residential</td>\n",
       "      <td>Residential/Small Commercial</td>\n",
       "      <td>PSEG Long Island</td>\n",
       "      <td>Lease</td>\n",
       "      <td>...</td>\n",
       "      <td>1.0</td>\n",
       "      <td>28.0</td>\n",
       "      <td>30940.00</td>\n",
       "      <td>2520.0</td>\n",
       "      <td>7.00</td>\n",
       "      <td>8217.0</td>\n",
       "      <td>False</td>\n",
       "      <td>False</td>\n",
       "      <td>Levittown, NY 11756\\n(40.725845, -73.517198)</td>\n",
       "      <td>Small Solar</td>\n",
       "    </tr>\n",
       "    <tr>\n",
       "      <th>2</th>\n",
       "      <td>2</td>\n",
       "      <td>5137-52151</td>\n",
       "      <td>Cortland</td>\n",
       "      <td>Cortland</td>\n",
       "      <td>NY</td>\n",
       "      <td>13045</td>\n",
       "      <td>Residential</td>\n",
       "      <td>Residential/Small Commercial</td>\n",
       "      <td>National Grid</td>\n",
       "      <td>Lease</td>\n",
       "      <td>...</td>\n",
       "      <td>2.0</td>\n",
       "      <td>49.0</td>\n",
       "      <td>48387.50</td>\n",
       "      <td>11025.0</td>\n",
       "      <td>12.25</td>\n",
       "      <td>14380.0</td>\n",
       "      <td>False</td>\n",
       "      <td>False</td>\n",
       "      <td>Cortland, NY 13045\\n(42.588691, -76.185061)</td>\n",
       "      <td>Small Solar</td>\n",
       "    </tr>\n",
       "    <tr>\n",
       "      <th>3</th>\n",
       "      <td>3</td>\n",
       "      <td>5129-94109</td>\n",
       "      <td>Staten Island</td>\n",
       "      <td>Richmond</td>\n",
       "      <td>NY</td>\n",
       "      <td>10314</td>\n",
       "      <td>Residential</td>\n",
       "      <td>Residential/Small Commercial</td>\n",
       "      <td>Consolidated Edison</td>\n",
       "      <td>Purchase</td>\n",
       "      <td>...</td>\n",
       "      <td>1.0</td>\n",
       "      <td>15.0</td>\n",
       "      <td>23509.54</td>\n",
       "      <td>2943.0</td>\n",
       "      <td>4.91</td>\n",
       "      <td>5758.0</td>\n",
       "      <td>False</td>\n",
       "      <td>False</td>\n",
       "      <td>Staten Island, NY 10314\\n(40.604049, -74.152798)</td>\n",
       "      <td>Small Solar</td>\n",
       "    </tr>\n",
       "    <tr>\n",
       "      <th>4</th>\n",
       "      <td>4</td>\n",
       "      <td>5137-46454</td>\n",
       "      <td>Warwick</td>\n",
       "      <td>Orange</td>\n",
       "      <td>NY</td>\n",
       "      <td>10990</td>\n",
       "      <td>Residential</td>\n",
       "      <td>Residential/Small Commercial</td>\n",
       "      <td>Orange and Rockland Utilities</td>\n",
       "      <td>Lease</td>\n",
       "      <td>...</td>\n",
       "      <td>1.0</td>\n",
       "      <td>22.0</td>\n",
       "      <td>25283.00</td>\n",
       "      <td>5720.0</td>\n",
       "      <td>5.72</td>\n",
       "      <td>6714.0</td>\n",
       "      <td>False</td>\n",
       "      <td>False</td>\n",
       "      <td>Warwick, NY 10990\\n(41.263165, -74.365461)</td>\n",
       "      <td>Small Solar</td>\n",
       "    </tr>\n",
       "    <tr>\n",
       "      <th>5</th>\n",
       "      <td>5</td>\n",
       "      <td>5129-60647-GJ</td>\n",
       "      <td>Ronkonkoma</td>\n",
       "      <td>Suffolk</td>\n",
       "      <td>NY</td>\n",
       "      <td>11749</td>\n",
       "      <td>Residential</td>\n",
       "      <td>Residential/Small Commercial</td>\n",
       "      <td>PSEG Long Island</td>\n",
       "      <td>Purchase</td>\n",
       "      <td>...</td>\n",
       "      <td>2.0</td>\n",
       "      <td>23.0</td>\n",
       "      <td>33106.06</td>\n",
       "      <td>2256.0</td>\n",
       "      <td>7.52</td>\n",
       "      <td>8828.0</td>\n",
       "      <td>False</td>\n",
       "      <td>False</td>\n",
       "      <td>Ronkonkoma, NY 11749\\n(40.807149, -73.173128)</td>\n",
       "      <td>Small Solar</td>\n",
       "    </tr>\n",
       "    <tr>\n",
       "      <th>6</th>\n",
       "      <td>6</td>\n",
       "      <td>5137-57452</td>\n",
       "      <td>Slingerlands</td>\n",
       "      <td>Albany</td>\n",
       "      <td>NY</td>\n",
       "      <td>12159</td>\n",
       "      <td>Residential</td>\n",
       "      <td>Residential/Small Commercial</td>\n",
       "      <td>National Grid</td>\n",
       "      <td>Lease</td>\n",
       "      <td>...</td>\n",
       "      <td>1.0</td>\n",
       "      <td>21.0</td>\n",
       "      <td>20737.50</td>\n",
       "      <td>4200.0</td>\n",
       "      <td>5.25</td>\n",
       "      <td>6163.0</td>\n",
       "      <td>False</td>\n",
       "      <td>False</td>\n",
       "      <td>Slingerlands, NY 12159\\n(42.646421, -73.874892)</td>\n",
       "      <td>Small Solar</td>\n",
       "    </tr>\n",
       "    <tr>\n",
       "      <th>7</th>\n",
       "      <td>7</td>\n",
       "      <td>5137-51508</td>\n",
       "      <td>Amityville</td>\n",
       "      <td>Suffolk</td>\n",
       "      <td>NY</td>\n",
       "      <td>11701</td>\n",
       "      <td>Residential</td>\n",
       "      <td>Residential/Small Commercial</td>\n",
       "      <td>PSEG Long Island</td>\n",
       "      <td>Lease</td>\n",
       "      <td>...</td>\n",
       "      <td>1.0</td>\n",
       "      <td>23.0</td>\n",
       "      <td>22712.50</td>\n",
       "      <td>2300.0</td>\n",
       "      <td>5.75</td>\n",
       "      <td>6750.0</td>\n",
       "      <td>False</td>\n",
       "      <td>False</td>\n",
       "      <td>Amityville, NY 11701\\n(40.686478, -73.414186)</td>\n",
       "      <td>Small Solar</td>\n",
       "    </tr>\n",
       "    <tr>\n",
       "      <th>8</th>\n",
       "      <td>8</td>\n",
       "      <td>5137-46921</td>\n",
       "      <td>Schenectady</td>\n",
       "      <td>Schenectady</td>\n",
       "      <td>NY</td>\n",
       "      <td>12304</td>\n",
       "      <td>Residential</td>\n",
       "      <td>Residential/Small Commercial</td>\n",
       "      <td>National Grid</td>\n",
       "      <td>Lease</td>\n",
       "      <td>...</td>\n",
       "      <td>3.0</td>\n",
       "      <td>67.0</td>\n",
       "      <td>74035.00</td>\n",
       "      <td>11613.0</td>\n",
       "      <td>16.75</td>\n",
       "      <td>19662.0</td>\n",
       "      <td>False</td>\n",
       "      <td>False</td>\n",
       "      <td>Schenectady, NY 12304\\n(42.778181, -73.902335)</td>\n",
       "      <td>Small Solar</td>\n",
       "    </tr>\n",
       "    <tr>\n",
       "      <th>9</th>\n",
       "      <td>9</td>\n",
       "      <td>5137-41728</td>\n",
       "      <td>Staten Island</td>\n",
       "      <td>Richmond</td>\n",
       "      <td>NY</td>\n",
       "      <td>10303</td>\n",
       "      <td>Residential</td>\n",
       "      <td>Residential/Small Commercial</td>\n",
       "      <td>Consolidated Edison</td>\n",
       "      <td>Lease</td>\n",
       "      <td>...</td>\n",
       "      <td>2.0</td>\n",
       "      <td>35.0</td>\n",
       "      <td>36575.00</td>\n",
       "      <td>8750.0</td>\n",
       "      <td>8.75</td>\n",
       "      <td>10271.0</td>\n",
       "      <td>False</td>\n",
       "      <td>False</td>\n",
       "      <td>Staten Island, NY 10303\\n(40.629735, -74.162953)</td>\n",
       "      <td>Small Solar</td>\n",
       "    </tr>\n",
       "    <tr>\n",
       "      <th>10</th>\n",
       "      <td>10</td>\n",
       "      <td>5137-46048</td>\n",
       "      <td>Whitney Point</td>\n",
       "      <td>Broome</td>\n",
       "      <td>NY</td>\n",
       "      <td>13862</td>\n",
       "      <td>Residential</td>\n",
       "      <td>Residential/Small Commercial</td>\n",
       "      <td>NYS Electric and Gas</td>\n",
       "      <td>Lease</td>\n",
       "      <td>...</td>\n",
       "      <td>2.0</td>\n",
       "      <td>52.0</td>\n",
       "      <td>56310.80</td>\n",
       "      <td>12740.0</td>\n",
       "      <td>12.74</td>\n",
       "      <td>14955.0</td>\n",
       "      <td>False</td>\n",
       "      <td>False</td>\n",
       "      <td>Whitney Point, NY 13862\\n(42.330498, -75.940895)</td>\n",
       "      <td>Small Solar</td>\n",
       "    </tr>\n",
       "    <tr>\n",
       "      <th>11</th>\n",
       "      <td>11</td>\n",
       "      <td>5137-48230</td>\n",
       "      <td>Nassau</td>\n",
       "      <td>Rensselaer</td>\n",
       "      <td>NY</td>\n",
       "      <td>12123</td>\n",
       "      <td>Residential</td>\n",
       "      <td>Residential/Small Commercial</td>\n",
       "      <td>National Grid</td>\n",
       "      <td>Lease</td>\n",
       "      <td>...</td>\n",
       "      <td>1.0</td>\n",
       "      <td>36.0</td>\n",
       "      <td>38984.40</td>\n",
       "      <td>6086.0</td>\n",
       "      <td>8.82</td>\n",
       "      <td>10353.0</td>\n",
       "      <td>False</td>\n",
       "      <td>False</td>\n",
       "      <td>Nassau, NY 12123\\n(42.519248, -73.608104)</td>\n",
       "      <td>Small Solar</td>\n",
       "    </tr>\n",
       "    <tr>\n",
       "      <th>12</th>\n",
       "      <td>12</td>\n",
       "      <td>5138-69018</td>\n",
       "      <td>Bethel</td>\n",
       "      <td>Sullivan</td>\n",
       "      <td>NY</td>\n",
       "      <td>12720</td>\n",
       "      <td>Residential</td>\n",
       "      <td>Residential/Small Commercial</td>\n",
       "      <td>NYS Electric and Gas</td>\n",
       "      <td>Purchase</td>\n",
       "      <td>...</td>\n",
       "      <td>2.0</td>\n",
       "      <td>54.0</td>\n",
       "      <td>43051.00</td>\n",
       "      <td>5832.0</td>\n",
       "      <td>13.50</td>\n",
       "      <td>15847.0</td>\n",
       "      <td>False</td>\n",
       "      <td>False</td>\n",
       "      <td>Bethel, NY 12720\\n(41.673308, -74.885515)</td>\n",
       "      <td>Small Solar</td>\n",
       "    </tr>\n",
       "    <tr>\n",
       "      <th>13</th>\n",
       "      <td>13</td>\n",
       "      <td>5137-42646</td>\n",
       "      <td>Pomona</td>\n",
       "      <td>Rockland</td>\n",
       "      <td>NY</td>\n",
       "      <td>10970</td>\n",
       "      <td>Residential</td>\n",
       "      <td>Residential/Small Commercial</td>\n",
       "      <td>Orange and Rockland Utilities</td>\n",
       "      <td>Lease</td>\n",
       "      <td>...</td>\n",
       "      <td>2.0</td>\n",
       "      <td>36.0</td>\n",
       "      <td>39780.00</td>\n",
       "      <td>9000.0</td>\n",
       "      <td>9.00</td>\n",
       "      <td>10565.0</td>\n",
       "      <td>False</td>\n",
       "      <td>False</td>\n",
       "      <td>Pomona, NY 10970\\n(41.190736, -74.050092)</td>\n",
       "      <td>Small Solar</td>\n",
       "    </tr>\n",
       "    <tr>\n",
       "      <th>14</th>\n",
       "      <td>14</td>\n",
       "      <td>5137-47312</td>\n",
       "      <td>Grahamsville</td>\n",
       "      <td>Sullivan</td>\n",
       "      <td>NY</td>\n",
       "      <td>12740</td>\n",
       "      <td>Residential</td>\n",
       "      <td>Residential/Small Commercial</td>\n",
       "      <td>Central Hudson Gas and Electric</td>\n",
       "      <td>Lease</td>\n",
       "      <td>...</td>\n",
       "      <td>2.0</td>\n",
       "      <td>60.0</td>\n",
       "      <td>68952.00</td>\n",
       "      <td>15600.0</td>\n",
       "      <td>15.60</td>\n",
       "      <td>18312.0</td>\n",
       "      <td>False</td>\n",
       "      <td>False</td>\n",
       "      <td>Grahamsville, NY 12740\\n(41.863407, -74.500661)</td>\n",
       "      <td>Small Solar</td>\n",
       "    </tr>\n",
       "    <tr>\n",
       "      <th>15</th>\n",
       "      <td>15</td>\n",
       "      <td>5137-50265</td>\n",
       "      <td>Spring Valley</td>\n",
       "      <td>Rockland</td>\n",
       "      <td>NY</td>\n",
       "      <td>10977</td>\n",
       "      <td>Residential</td>\n",
       "      <td>Residential/Small Commercial</td>\n",
       "      <td>Orange and Rockland Utilities</td>\n",
       "      <td>Lease</td>\n",
       "      <td>...</td>\n",
       "      <td>1.0</td>\n",
       "      <td>16.0</td>\n",
       "      <td>15800.00</td>\n",
       "      <td>2844.0</td>\n",
       "      <td>4.00</td>\n",
       "      <td>4695.0</td>\n",
       "      <td>False</td>\n",
       "      <td>False</td>\n",
       "      <td>Spring Valley, NY 10977\\n(41.116859, -74.047476)</td>\n",
       "      <td>Small Solar</td>\n",
       "    </tr>\n",
       "    <tr>\n",
       "      <th>16</th>\n",
       "      <td>16</td>\n",
       "      <td>5137-59340</td>\n",
       "      <td>Central Square</td>\n",
       "      <td>Oswego</td>\n",
       "      <td>NY</td>\n",
       "      <td>13036</td>\n",
       "      <td>Residential</td>\n",
       "      <td>Residential/Small Commercial</td>\n",
       "      <td>National Grid</td>\n",
       "      <td>Lease</td>\n",
       "      <td>...</td>\n",
       "      <td>1.0</td>\n",
       "      <td>27.0</td>\n",
       "      <td>26662.50</td>\n",
       "      <td>5400.0</td>\n",
       "      <td>6.75</td>\n",
       "      <td>7923.0</td>\n",
       "      <td>False</td>\n",
       "      <td>False</td>\n",
       "      <td>Central Square, NY 13036\\n(43.309824, -76.166889)</td>\n",
       "      <td>Small Solar</td>\n",
       "    </tr>\n",
       "    <tr>\n",
       "      <th>17</th>\n",
       "      <td>17</td>\n",
       "      <td>5137-47455</td>\n",
       "      <td>New Paltz</td>\n",
       "      <td>Ulster</td>\n",
       "      <td>NY</td>\n",
       "      <td>12561</td>\n",
       "      <td>Residential</td>\n",
       "      <td>Residential/Small Commercial</td>\n",
       "      <td>Central Hudson Gas and Electric</td>\n",
       "      <td>Lease</td>\n",
       "      <td>...</td>\n",
       "      <td>2.0</td>\n",
       "      <td>36.0</td>\n",
       "      <td>39780.00</td>\n",
       "      <td>6340.0</td>\n",
       "      <td>9.00</td>\n",
       "      <td>10565.0</td>\n",
       "      <td>False</td>\n",
       "      <td>False</td>\n",
       "      <td>New Paltz, NY 12561\\n(41.74664, -74.094011)</td>\n",
       "      <td>Small Solar</td>\n",
       "    </tr>\n",
       "    <tr>\n",
       "      <th>18</th>\n",
       "      <td>18</td>\n",
       "      <td>5129-55751-GJ</td>\n",
       "      <td>Staten Island</td>\n",
       "      <td>Richmond</td>\n",
       "      <td>NY</td>\n",
       "      <td>10312</td>\n",
       "      <td>Residential</td>\n",
       "      <td>Residential/Small Commercial</td>\n",
       "      <td>Consolidated Edison</td>\n",
       "      <td>Purchase</td>\n",
       "      <td>...</td>\n",
       "      <td>1.0</td>\n",
       "      <td>23.0</td>\n",
       "      <td>26033.91</td>\n",
       "      <td>4508.0</td>\n",
       "      <td>5.64</td>\n",
       "      <td>6615.0</td>\n",
       "      <td>False</td>\n",
       "      <td>False</td>\n",
       "      <td>Staten Island, NY 10312\\n(40.542961, -74.178263)</td>\n",
       "      <td>Small Solar</td>\n",
       "    </tr>\n",
       "    <tr>\n",
       "      <th>19</th>\n",
       "      <td>19</td>\n",
       "      <td>5137-49687</td>\n",
       "      <td>Haverstraw</td>\n",
       "      <td>Rockland</td>\n",
       "      <td>NY</td>\n",
       "      <td>10927</td>\n",
       "      <td>Residential</td>\n",
       "      <td>Residential/Small Commercial</td>\n",
       "      <td>Orange and Rockland Utilities</td>\n",
       "      <td>Lease</td>\n",
       "      <td>...</td>\n",
       "      <td>1.0</td>\n",
       "      <td>12.0</td>\n",
       "      <td>11850.00</td>\n",
       "      <td>2700.0</td>\n",
       "      <td>3.00</td>\n",
       "      <td>3522.0</td>\n",
       "      <td>False</td>\n",
       "      <td>False</td>\n",
       "      <td>Haverstraw, NY 10927\\n(41.195696, -73.967419)</td>\n",
       "      <td>Small Solar</td>\n",
       "    </tr>\n",
       "  </tbody>\n",
       "</table>\n",
       "<p>20 rows × 22 columns</p>\n",
       "</div>"
      ],
      "text/plain": [
       "    index project_number            city       county state  zip_code  \\\n",
       "0       0     5137-49041           Maine       Broome    NY     13802   \n",
       "1       1     5137-46019       Levittown       Nassau    NY     11756   \n",
       "2       2     5137-52151        Cortland     Cortland    NY     13045   \n",
       "3       3     5129-94109   Staten Island     Richmond    NY     10314   \n",
       "4       4     5137-46454         Warwick       Orange    NY     10990   \n",
       "5       5  5129-60647-GJ      Ronkonkoma      Suffolk    NY     11749   \n",
       "6       6     5137-57452    Slingerlands       Albany    NY     12159   \n",
       "7       7     5137-51508      Amityville      Suffolk    NY     11701   \n",
       "8       8     5137-46921     Schenectady  Schenectady    NY     12304   \n",
       "9       9     5137-41728   Staten Island     Richmond    NY     10303   \n",
       "10     10     5137-46048   Whitney Point       Broome    NY     13862   \n",
       "11     11     5137-48230          Nassau   Rensselaer    NY     12123   \n",
       "12     12     5138-69018          Bethel     Sullivan    NY     12720   \n",
       "13     13     5137-42646          Pomona     Rockland    NY     10970   \n",
       "14     14     5137-47312    Grahamsville     Sullivan    NY     12740   \n",
       "15     15     5137-50265   Spring Valley     Rockland    NY     10977   \n",
       "16     16     5137-59340  Central Square       Oswego    NY     13036   \n",
       "17     17     5137-47455       New Paltz       Ulster    NY     12561   \n",
       "18     18  5129-55751-GJ   Staten Island     Richmond    NY     10312   \n",
       "19     19     5137-49687      Haverstraw     Rockland    NY     10927   \n",
       "\n",
       "         sector                  program_type  \\\n",
       "0   Residential  Residential/Small Commercial   \n",
       "1   Residential  Residential/Small Commercial   \n",
       "2   Residential  Residential/Small Commercial   \n",
       "3   Residential  Residential/Small Commercial   \n",
       "4   Residential  Residential/Small Commercial   \n",
       "5   Residential  Residential/Small Commercial   \n",
       "6   Residential  Residential/Small Commercial   \n",
       "7   Residential  Residential/Small Commercial   \n",
       "8   Residential  Residential/Small Commercial   \n",
       "9   Residential  Residential/Small Commercial   \n",
       "10  Residential  Residential/Small Commercial   \n",
       "11  Residential  Residential/Small Commercial   \n",
       "12  Residential  Residential/Small Commercial   \n",
       "13  Residential  Residential/Small Commercial   \n",
       "14  Residential  Residential/Small Commercial   \n",
       "15  Residential  Residential/Small Commercial   \n",
       "16  Residential  Residential/Small Commercial   \n",
       "17  Residential  Residential/Small Commercial   \n",
       "18  Residential  Residential/Small Commercial   \n",
       "19  Residential  Residential/Small Commercial   \n",
       "\n",
       "                   electric_utility purchase_type  ... inverter_quantity  \\\n",
       "0              NYS Electric and Gas         Lease  ...               2.0   \n",
       "1                  PSEG Long Island         Lease  ...               1.0   \n",
       "2                     National Grid         Lease  ...               2.0   \n",
       "3               Consolidated Edison      Purchase  ...               1.0   \n",
       "4     Orange and Rockland Utilities         Lease  ...               1.0   \n",
       "5                  PSEG Long Island      Purchase  ...               2.0   \n",
       "6                     National Grid         Lease  ...               1.0   \n",
       "7                  PSEG Long Island         Lease  ...               1.0   \n",
       "8                     National Grid         Lease  ...               3.0   \n",
       "9               Consolidated Edison         Lease  ...               2.0   \n",
       "10             NYS Electric and Gas         Lease  ...               2.0   \n",
       "11                    National Grid         Lease  ...               1.0   \n",
       "12             NYS Electric and Gas      Purchase  ...               2.0   \n",
       "13    Orange and Rockland Utilities         Lease  ...               2.0   \n",
       "14  Central Hudson Gas and Electric         Lease  ...               2.0   \n",
       "15    Orange and Rockland Utilities         Lease  ...               1.0   \n",
       "16                    National Grid         Lease  ...               1.0   \n",
       "17  Central Hudson Gas and Electric         Lease  ...               2.0   \n",
       "18              Consolidated Edison      Purchase  ...               1.0   \n",
       "19    Orange and Rockland Utilities         Lease  ...               1.0   \n",
       "\n",
       "   pv_quantity  project_cost  incentive  kw_dc  kwh_year  affordable_solar  \\\n",
       "0         40.0      41800.00     6930.0  10.00   11738.0             False   \n",
       "1         28.0      30940.00     2520.0   7.00    8217.0             False   \n",
       "2         49.0      48387.50    11025.0  12.25   14380.0             False   \n",
       "3         15.0      23509.54     2943.0   4.91    5758.0             False   \n",
       "4         22.0      25283.00     5720.0   5.72    6714.0             False   \n",
       "5         23.0      33106.06     2256.0   7.52    8828.0             False   \n",
       "6         21.0      20737.50     4200.0   5.25    6163.0             False   \n",
       "7         23.0      22712.50     2300.0   5.75    6750.0             False   \n",
       "8         67.0      74035.00    11613.0  16.75   19662.0             False   \n",
       "9         35.0      36575.00     8750.0   8.75   10271.0             False   \n",
       "10        52.0      56310.80    12740.0  12.74   14955.0             False   \n",
       "11        36.0      38984.40     6086.0   8.82   10353.0             False   \n",
       "12        54.0      43051.00     5832.0  13.50   15847.0             False   \n",
       "13        36.0      39780.00     9000.0   9.00   10565.0             False   \n",
       "14        60.0      68952.00    15600.0  15.60   18312.0             False   \n",
       "15        16.0      15800.00     2844.0   4.00    4695.0             False   \n",
       "16        27.0      26662.50     5400.0   6.75    7923.0             False   \n",
       "17        36.0      39780.00     6340.0   9.00   10565.0             False   \n",
       "18        23.0      26033.91     4508.0   5.64    6615.0             False   \n",
       "19        12.0      11850.00     2700.0   3.00    3522.0             False   \n",
       "\n",
       "    community_distributed_generation  \\\n",
       "0                              False   \n",
       "1                              False   \n",
       "2                              False   \n",
       "3                              False   \n",
       "4                              False   \n",
       "5                              False   \n",
       "6                              False   \n",
       "7                              False   \n",
       "8                              False   \n",
       "9                              False   \n",
       "10                             False   \n",
       "11                             False   \n",
       "12                             False   \n",
       "13                             False   \n",
       "14                             False   \n",
       "15                             False   \n",
       "16                             False   \n",
       "17                             False   \n",
       "18                             False   \n",
       "19                             False   \n",
       "\n",
       "                                        location_data  installation_size  \n",
       "0            Maine, NY 13802\\n(42.240938, -76.047937)        Small Solar  \n",
       "1        Levittown, NY 11756\\n(40.725845, -73.517198)        Small Solar  \n",
       "2         Cortland, NY 13045\\n(42.588691, -76.185061)        Small Solar  \n",
       "3    Staten Island, NY 10314\\n(40.604049, -74.152798)        Small Solar  \n",
       "4          Warwick, NY 10990\\n(41.263165, -74.365461)        Small Solar  \n",
       "5       Ronkonkoma, NY 11749\\n(40.807149, -73.173128)        Small Solar  \n",
       "6     Slingerlands, NY 12159\\n(42.646421, -73.874892)        Small Solar  \n",
       "7       Amityville, NY 11701\\n(40.686478, -73.414186)        Small Solar  \n",
       "8      Schenectady, NY 12304\\n(42.778181, -73.902335)        Small Solar  \n",
       "9    Staten Island, NY 10303\\n(40.629735, -74.162953)        Small Solar  \n",
       "10   Whitney Point, NY 13862\\n(42.330498, -75.940895)        Small Solar  \n",
       "11          Nassau, NY 12123\\n(42.519248, -73.608104)        Small Solar  \n",
       "12          Bethel, NY 12720\\n(41.673308, -74.885515)        Small Solar  \n",
       "13          Pomona, NY 10970\\n(41.190736, -74.050092)        Small Solar  \n",
       "14    Grahamsville, NY 12740\\n(41.863407, -74.500661)        Small Solar  \n",
       "15   Spring Valley, NY 10977\\n(41.116859, -74.047476)        Small Solar  \n",
       "16  Central Square, NY 13036\\n(43.309824, -76.166889)        Small Solar  \n",
       "17        New Paltz, NY 12561\\n(41.74664, -74.094011)        Small Solar  \n",
       "18   Staten Island, NY 10312\\n(40.542961, -74.178263)        Small Solar  \n",
       "19      Haverstraw, NY 10927\\n(41.195696, -73.967419)        Small Solar  \n",
       "\n",
       "[20 rows x 22 columns]"
      ]
     },
     "execution_count": 49,
     "metadata": {},
     "output_type": "execute_result"
    }
   ],
   "source": [
    "df1.head(20)"
   ]
  },
  {
   "cell_type": "code",
   "execution_count": 50,
   "metadata": {
    "scrolled": true
   },
   "outputs": [
    {
     "data": {
      "text/plain": [
       "(75564, 22)"
      ]
     },
     "execution_count": 50,
     "metadata": {},
     "output_type": "execute_result"
    }
   ],
   "source": [
    "df1.shape"
   ]
  },
  {
   "cell_type": "markdown",
   "metadata": {},
   "source": [
    "This dataframe has more than 5000 entries, so it can work well in a linear regression analysis. "
   ]
  },
  {
   "cell_type": "markdown",
   "metadata": {},
   "source": [
    "##### Duplicates check"
   ]
  },
  {
   "cell_type": "code",
   "execution_count": 51,
   "metadata": {},
   "outputs": [],
   "source": [
    "dups = df1.duplicated()"
   ]
  },
  {
   "cell_type": "code",
   "execution_count": 52,
   "metadata": {},
   "outputs": [
    {
     "data": {
      "text/plain": [
       "(75564,)"
      ]
     },
     "execution_count": 52,
     "metadata": {},
     "output_type": "execute_result"
    }
   ],
   "source": [
    "dups.shape # No dups"
   ]
  },
  {
   "cell_type": "markdown",
   "metadata": {},
   "source": [
    "##### Extreme values checks"
   ]
  },
  {
   "cell_type": "markdown",
   "metadata": {},
   "source": [
    "We know from the previous tasks that the data set has extreme values in PV production. Let's check them again"
   ]
  },
  {
   "cell_type": "code",
   "execution_count": 54,
   "metadata": {},
   "outputs": [
    {
     "data": {
      "text/plain": [
       "27323.83185114605"
      ]
     },
     "execution_count": 54,
     "metadata": {},
     "output_type": "execute_result"
    }
   ],
   "source": [
    "df1['kwh_year'].mean() # Check the mean"
   ]
  },
  {
   "cell_type": "code",
   "execution_count": 55,
   "metadata": {},
   "outputs": [
    {
     "data": {
      "text/plain": [
       "8452.0"
      ]
     },
     "execution_count": 55,
     "metadata": {},
     "output_type": "execute_result"
    }
   ],
   "source": [
    "df1['kwh_year'].median() # Check the median"
   ]
  },
  {
   "cell_type": "code",
   "execution_count": 56,
   "metadata": {},
   "outputs": [
    {
     "data": {
      "text/plain": [
       "6807591.0"
      ]
     },
     "execution_count": 56,
     "metadata": {},
     "output_type": "execute_result"
    }
   ],
   "source": [
    "df1['kwh_year'].max() # Check the max"
   ]
  },
  {
   "cell_type": "markdown",
   "metadata": {},
   "source": [
    "The mean, median and max values show the skewedness of the data. There are outliers with very large installations, compared to the majority of PV installation which produces below 100000 KWh_year."
   ]
  },
  {
   "cell_type": "code",
   "execution_count": 57,
   "metadata": {},
   "outputs": [
    {
     "data": {
      "image/png": "[encoded data removed]",
      "text/plain": [
       "<Figure size 640x480 with 1 Axes>"
      ]
     },
     "metadata": {},
     "output_type": "display_data"
    }
   ],
   "source": [
    "sns.boxplot (x=df1['kw_dc'])\n",
    "plt.show()"
   ]
  },
  {
   "cell_type": "code",
   "execution_count": 58,
   "metadata": {},
   "outputs": [
    {
     "data": {
      "text/plain": [
       "count    75564.000000\n",
       "mean        23.278069\n",
       "std        190.160234\n",
       "min          0.250000\n",
       "25%          5.220000\n",
       "50%          7.200000\n",
       "75%          9.950000\n",
       "max       5799.420000\n",
       "Name: kw_dc, dtype: float64"
      ]
     },
     "execution_count": 58,
     "metadata": {},
     "output_type": "execute_result"
    }
   ],
   "source": [
    "df1['kw_dc'].describe ()"
   ]
  },
  {
   "cell_type": "markdown",
   "metadata": {},
   "source": [
    "With the describe method of pandas, we can see our data’s Q1 (%25) and Q3 (%75) percentiles. We can calculate our IQR point and boundaries (with 1.5)."
   ]
  },
  {
   "cell_type": "code",
   "execution_count": 59,
   "metadata": {},
   "outputs": [
    {
     "data": {
      "text/plain": [
       "5.22"
      ]
     },
     "execution_count": 59,
     "metadata": {},
     "output_type": "execute_result"
    }
   ],
   "source": [
    "#use Tukey's rule to dectect outliers, or IQR rule. \n",
    "df1['kw_dc'].quantile (0.25)"
   ]
  },
  {
   "cell_type": "code",
   "execution_count": 60,
   "metadata": {},
   "outputs": [
    {
     "data": {
      "text/plain": [
       "9.95"
      ]
     },
     "execution_count": 60,
     "metadata": {},
     "output_type": "execute_result"
    }
   ],
   "source": [
    "df1['kw_dc'].quantile (0.75)"
   ]
  },
  {
   "cell_type": "code",
   "execution_count": 61,
   "metadata": {},
   "outputs": [],
   "source": [
    "#calculate interquartile range\n",
    "Q1=df1['kw_dc'].quantile (0.25)\n",
    "Q3=df1['kw_dc'].quantile (0.75)\n",
    "IQR= Q3-Q1"
   ]
  },
  {
   "cell_type": "code",
   "execution_count": 62,
   "metadata": {},
   "outputs": [
    {
     "data": {
      "text/plain": [
       "4.7299999999999995"
      ]
     },
     "execution_count": 62,
     "metadata": {},
     "output_type": "execute_result"
    }
   ],
   "source": [
    "IQR"
   ]
  },
  {
   "cell_type": "code",
   "execution_count": 63,
   "metadata": {},
   "outputs": [],
   "source": [
    "lower_limit= Q1-1.5*IQR\n",
    "upper_limit= Q3+1.5*IQR"
   ]
  },
  {
   "cell_type": "code",
   "execution_count": 64,
   "metadata": {},
   "outputs": [
    {
     "data": {
      "text/plain": [
       "-1.8749999999999991"
      ]
     },
     "execution_count": 64,
     "metadata": {},
     "output_type": "execute_result"
    }
   ],
   "source": [
    "lower_limit"
   ]
  },
  {
   "cell_type": "code",
   "execution_count": 65,
   "metadata": {},
   "outputs": [
    {
     "data": {
      "text/plain": [
       "17.044999999999998"
      ]
     },
     "execution_count": 65,
     "metadata": {},
     "output_type": "execute_result"
    }
   ],
   "source": [
    "upper_limit"
   ]
  },
  {
   "cell_type": "markdown",
   "metadata": {},
   "source": [
    "This result means values between -1.8 and 17 are acceptable but those outside this range are outliers"
   ]
  },
  {
   "cell_type": "code",
   "execution_count": 66,
   "metadata": {},
   "outputs": [],
   "source": [
    "#dealine with outliers\n",
    "outliers_low= (df1 ['kw_dc'] < lower_limit)"
   ]
  },
  {
   "cell_type": "code",
   "execution_count": 67,
   "metadata": {},
   "outputs": [],
   "source": [
    "outliers_high= (df1 ['kw_dc'] > upper_limit)"
   ]
  },
  {
   "cell_type": "code",
   "execution_count": 68,
   "metadata": {},
   "outputs": [
    {
     "data": {
      "text/plain": [
       "70970"
      ]
     },
     "execution_count": 68,
     "metadata": {},
     "output_type": "execute_result"
    }
   ],
   "source": [
    "#checking how many rows would be left in the dataset without these outliers\n",
    "len(df1 ['kw_dc'])-(len(df1['kw_dc'][outliers_low])+ len(df1['kw_dc'][outliers_high]))"
   ]
  },
  {
   "cell_type": "code",
   "execution_count": 69,
   "metadata": {},
   "outputs": [
    {
     "data": {
      "text/plain": [
       "35       105.60\n",
       "45        17.25\n",
       "51        40.96\n",
       "68        86.80\n",
       "69        29.70\n",
       "          ...  \n",
       "84579     20.40\n",
       "84601     17.60\n",
       "84621     82.35\n",
       "84642     49.28\n",
       "84697     61.60\n",
       "Name: kw_dc, Length: 4594, dtype: float64"
      ]
     },
     "execution_count": 69,
     "metadata": {},
     "output_type": "execute_result"
    }
   ],
   "source": [
    "#shows data the outliers\n",
    "df1['kw_dc'][(outliers_low|outliers_high)]"
   ]
  },
  {
   "cell_type": "markdown",
   "metadata": {},
   "source": [
    "The length of the rows we lose is 4594 entries"
   ]
  },
  {
   "cell_type": "code",
   "execution_count": 70,
   "metadata": {},
   "outputs": [
    {
     "data": {
      "text/plain": [
       "0        10.00\n",
       "1         7.00\n",
       "2        12.25\n",
       "3         4.91\n",
       "4         5.72\n",
       "         ...  \n",
       "84716     8.50\n",
       "84717     6.50\n",
       "84718     7.95\n",
       "84719     5.72\n",
       "84720     9.80\n",
       "Name: kw_dc, Length: 70970, dtype: float64"
      ]
     },
     "execution_count": 70,
     "metadata": {},
     "output_type": "execute_result"
    }
   ],
   "source": [
    "#shows the data without the outliers\n",
    "df1['kw_dc'][~(outliers_low|outliers_high)]"
   ]
  },
  {
   "cell_type": "markdown",
   "metadata": {},
   "source": [
    "We are still left with a dataset of 70970 rows"
   ]
  },
  {
   "cell_type": "code",
   "execution_count": 77,
   "metadata": {},
   "outputs": [],
   "source": [
    "df2=df1 [~(outliers_low|outliers_high)]"
   ]
  },
  {
   "cell_type": "code",
   "execution_count": 80,
   "metadata": {},
   "outputs": [
    {
     "data": {
      "text/html": [
       "<div>\n",
       "<style scoped>\n",
       "    .dataframe tbody tr th:only-of-type {\n",
       "        vertical-align: middle;\n",
       "    }\n",
       "\n",
       "    .dataframe tbody tr th {\n",
       "        vertical-align: top;\n",
       "    }\n",
       "\n",
       "    .dataframe thead th {\n",
       "        text-align: right;\n",
       "    }\n",
       "</style>\n",
       "<table border=\"1\" class=\"dataframe\">\n",
       "  <thead>\n",
       "    <tr style=\"text-align: right;\">\n",
       "      <th></th>\n",
       "      <th>index</th>\n",
       "      <th>project_number</th>\n",
       "      <th>city</th>\n",
       "      <th>county</th>\n",
       "      <th>state</th>\n",
       "      <th>zip_code</th>\n",
       "      <th>sector</th>\n",
       "      <th>program_type</th>\n",
       "      <th>electric_utility</th>\n",
       "      <th>purchase_type</th>\n",
       "      <th>...</th>\n",
       "      <th>inverter_quantity</th>\n",
       "      <th>pv_quantity</th>\n",
       "      <th>project_cost</th>\n",
       "      <th>incentive</th>\n",
       "      <th>kw_dc</th>\n",
       "      <th>kwh_year</th>\n",
       "      <th>affordable_solar</th>\n",
       "      <th>community_distributed_generation</th>\n",
       "      <th>location_data</th>\n",
       "      <th>installation_size</th>\n",
       "    </tr>\n",
       "  </thead>\n",
       "  <tbody>\n",
       "    <tr>\n",
       "      <th>0</th>\n",
       "      <td>0</td>\n",
       "      <td>5137-49041</td>\n",
       "      <td>Maine</td>\n",
       "      <td>Broome</td>\n",
       "      <td>NY</td>\n",
       "      <td>13802</td>\n",
       "      <td>Residential</td>\n",
       "      <td>Residential/Small Commercial</td>\n",
       "      <td>NYS Electric and Gas</td>\n",
       "      <td>Lease</td>\n",
       "      <td>...</td>\n",
       "      <td>2.0</td>\n",
       "      <td>40.0</td>\n",
       "      <td>41800.00</td>\n",
       "      <td>6930.0</td>\n",
       "      <td>10.00</td>\n",
       "      <td>11738.0</td>\n",
       "      <td>False</td>\n",
       "      <td>False</td>\n",
       "      <td>Maine, NY 13802\\n(42.240938, -76.047937)</td>\n",
       "      <td>Small Solar</td>\n",
       "    </tr>\n",
       "    <tr>\n",
       "      <th>1</th>\n",
       "      <td>1</td>\n",
       "      <td>5137-46019</td>\n",
       "      <td>Levittown</td>\n",
       "      <td>Nassau</td>\n",
       "      <td>NY</td>\n",
       "      <td>11756</td>\n",
       "      <td>Residential</td>\n",
       "      <td>Residential/Small Commercial</td>\n",
       "      <td>PSEG Long Island</td>\n",
       "      <td>Lease</td>\n",
       "      <td>...</td>\n",
       "      <td>1.0</td>\n",
       "      <td>28.0</td>\n",
       "      <td>30940.00</td>\n",
       "      <td>2520.0</td>\n",
       "      <td>7.00</td>\n",
       "      <td>8217.0</td>\n",
       "      <td>False</td>\n",
       "      <td>False</td>\n",
       "      <td>Levittown, NY 11756\\n(40.725845, -73.517198)</td>\n",
       "      <td>Small Solar</td>\n",
       "    </tr>\n",
       "    <tr>\n",
       "      <th>2</th>\n",
       "      <td>2</td>\n",
       "      <td>5137-52151</td>\n",
       "      <td>Cortland</td>\n",
       "      <td>Cortland</td>\n",
       "      <td>NY</td>\n",
       "      <td>13045</td>\n",
       "      <td>Residential</td>\n",
       "      <td>Residential/Small Commercial</td>\n",
       "      <td>National Grid</td>\n",
       "      <td>Lease</td>\n",
       "      <td>...</td>\n",
       "      <td>2.0</td>\n",
       "      <td>49.0</td>\n",
       "      <td>48387.50</td>\n",
       "      <td>11025.0</td>\n",
       "      <td>12.25</td>\n",
       "      <td>14380.0</td>\n",
       "      <td>False</td>\n",
       "      <td>False</td>\n",
       "      <td>Cortland, NY 13045\\n(42.588691, -76.185061)</td>\n",
       "      <td>Small Solar</td>\n",
       "    </tr>\n",
       "    <tr>\n",
       "      <th>3</th>\n",
       "      <td>3</td>\n",
       "      <td>5129-94109</td>\n",
       "      <td>Staten Island</td>\n",
       "      <td>Richmond</td>\n",
       "      <td>NY</td>\n",
       "      <td>10314</td>\n",
       "      <td>Residential</td>\n",
       "      <td>Residential/Small Commercial</td>\n",
       "      <td>Consolidated Edison</td>\n",
       "      <td>Purchase</td>\n",
       "      <td>...</td>\n",
       "      <td>1.0</td>\n",
       "      <td>15.0</td>\n",
       "      <td>23509.54</td>\n",
       "      <td>2943.0</td>\n",
       "      <td>4.91</td>\n",
       "      <td>5758.0</td>\n",
       "      <td>False</td>\n",
       "      <td>False</td>\n",
       "      <td>Staten Island, NY 10314\\n(40.604049, -74.152798)</td>\n",
       "      <td>Small Solar</td>\n",
       "    </tr>\n",
       "    <tr>\n",
       "      <th>4</th>\n",
       "      <td>4</td>\n",
       "      <td>5137-46454</td>\n",
       "      <td>Warwick</td>\n",
       "      <td>Orange</td>\n",
       "      <td>NY</td>\n",
       "      <td>10990</td>\n",
       "      <td>Residential</td>\n",
       "      <td>Residential/Small Commercial</td>\n",
       "      <td>Orange and Rockland Utilities</td>\n",
       "      <td>Lease</td>\n",
       "      <td>...</td>\n",
       "      <td>1.0</td>\n",
       "      <td>22.0</td>\n",
       "      <td>25283.00</td>\n",
       "      <td>5720.0</td>\n",
       "      <td>5.72</td>\n",
       "      <td>6714.0</td>\n",
       "      <td>False</td>\n",
       "      <td>False</td>\n",
       "      <td>Warwick, NY 10990\\n(41.263165, -74.365461)</td>\n",
       "      <td>Small Solar</td>\n",
       "    </tr>\n",
       "  </tbody>\n",
       "</table>\n",
       "<p>5 rows × 22 columns</p>\n",
       "</div>"
      ],
      "text/plain": [
       "   index project_number           city    county state  zip_code       sector  \\\n",
       "0      0     5137-49041          Maine    Broome    NY     13802  Residential   \n",
       "1      1     5137-46019      Levittown    Nassau    NY     11756  Residential   \n",
       "2      2     5137-52151       Cortland  Cortland    NY     13045  Residential   \n",
       "3      3     5129-94109  Staten Island  Richmond    NY     10314  Residential   \n",
       "4      4     5137-46454        Warwick    Orange    NY     10990  Residential   \n",
       "\n",
       "                   program_type               electric_utility purchase_type  \\\n",
       "0  Residential/Small Commercial           NYS Electric and Gas         Lease   \n",
       "1  Residential/Small Commercial               PSEG Long Island         Lease   \n",
       "2  Residential/Small Commercial                  National Grid         Lease   \n",
       "3  Residential/Small Commercial            Consolidated Edison      Purchase   \n",
       "4  Residential/Small Commercial  Orange and Rockland Utilities         Lease   \n",
       "\n",
       "   ... inverter_quantity pv_quantity  project_cost  incentive  kw_dc  \\\n",
       "0  ...               2.0        40.0      41800.00     6930.0  10.00   \n",
       "1  ...               1.0        28.0      30940.00     2520.0   7.00   \n",
       "2  ...               2.0        49.0      48387.50    11025.0  12.25   \n",
       "3  ...               1.0        15.0      23509.54     2943.0   4.91   \n",
       "4  ...               1.0        22.0      25283.00     5720.0   5.72   \n",
       "\n",
       "   kwh_year  affordable_solar  community_distributed_generation  \\\n",
       "0   11738.0             False                             False   \n",
       "1    8217.0             False                             False   \n",
       "2   14380.0             False                             False   \n",
       "3    5758.0             False                             False   \n",
       "4    6714.0             False                             False   \n",
       "\n",
       "                                      location_data  installation_size  \n",
       "0          Maine, NY 13802\\n(42.240938, -76.047937)        Small Solar  \n",
       "1      Levittown, NY 11756\\n(40.725845, -73.517198)        Small Solar  \n",
       "2       Cortland, NY 13045\\n(42.588691, -76.185061)        Small Solar  \n",
       "3  Staten Island, NY 10314\\n(40.604049, -74.152798)        Small Solar  \n",
       "4        Warwick, NY 10990\\n(41.263165, -74.365461)        Small Solar  \n",
       "\n",
       "[5 rows x 22 columns]"
      ]
     },
     "execution_count": 80,
     "metadata": {},
     "output_type": "execute_result"
    }
   ],
   "source": [
    "df2.head()"
   ]
  },
  {
   "cell_type": "code",
   "execution_count": 79,
   "metadata": {},
   "outputs": [
    {
     "data": {
      "text/plain": [
       "Index(['index', 'project_number', 'city', 'county', 'state', 'zip_code',\n",
       "       'sector', 'program_type', 'electric_utility', 'purchase_type',\n",
       "       'date_application_received', 'project_status', 'inverter_quantity',\n",
       "       'pv_quantity', 'project_cost', 'incentive', 'kw_dc', 'kwh_year',\n",
       "       'affordable_solar', 'community_distributed_generation', 'location_data',\n",
       "       'installation_size'],\n",
       "      dtype='object')"
      ]
     },
     "execution_count": 79,
     "metadata": {},
     "output_type": "execute_result"
    }
   ],
   "source": [
    "df2.columns"
   ]
  },
  {
   "cell_type": "code",
   "execution_count": 81,
   "metadata": {},
   "outputs": [
    {
     "name": "stderr",
     "output_type": "stream",
     "text": [
      "C:\\Users\\isobr\\OneDrive\\Anaconda\\lib\\site-packages\\seaborn\\distributions.py:2619: FutureWarning: `distplot` is a deprecated function and will be removed in a future version. Please adapt your code to use either `displot` (a figure-level function with similar flexibility) or `histplot` (an axes-level function for histograms).\n",
      "  warnings.warn(msg, FutureWarning)\n"
     ]
    },
    {
     "data": {
      "text/plain": [
       "<AxesSubplot:xlabel='kwh_year', ylabel='Density'>"
      ]
     },
     "execution_count": 81,
     "metadata": {},
     "output_type": "execute_result"
    },
    {
     "data": {
      "image/png": "[encoded data removed]",
      "text/plain": [
       "<Figure size 640x480 with 1 Axes>"
      ]
     },
     "metadata": {},
     "output_type": "display_data"
    }
   ],
   "source": [
    "sns.distplot(df2['kwh_year'], color='#fb8500', bins=5)"
   ]
  },
  {
   "cell_type": "code",
   "execution_count": 105,
   "metadata": {},
   "outputs": [],
   "source": [
    "#export Df without outliers\n",
    "df2.to_pickle(os.path.join(path, '02. Prepared data', 'solar_no_outliers.pkl'))"
   ]
  },
  {
   "cell_type": "markdown",
   "metadata": {},
   "source": [
    "### 3. Prepare regression analysis"
   ]
  },
  {
   "cell_type": "code",
   "execution_count": 82,
   "metadata": {
    "scrolled": true
   },
   "outputs": [
    {
     "data": {
      "image/png": "[encoded data removed]",
      "text/plain": [
       "<Figure size 640x480 with 1 Axes>"
      ]
     },
     "metadata": {},
     "output_type": "display_data"
    }
   ],
   "source": [
    "# Create a scatterplot using matplotlib for another look at how the chosen variables plot against each other.\n",
    "\n",
    "df1.plot(x = 'incentive', y='kwh_year',style='o',color='green', alpha=0.5) # alpha argument to play with opacity\n",
    "plt.title('Incentives received versus energy produced')  \n",
    "plt.xlabel('Incentives')  \n",
    "plt.ylabel('kwh per year')  \n",
    "plt.show()"
   ]
  },
  {
   "cell_type": "markdown",
   "metadata": {},
   "source": [
    "#### 3.1 Hypothesis to test\n",
    "H1. Incentives have created a boost in PV installations"
   ]
  },
  {
   "cell_type": "markdown",
   "metadata": {},
   "source": [
    "### 4. Regression Analysis"
   ]
  },
  {
   "cell_type": "code",
   "execution_count": 83,
   "metadata": {},
   "outputs": [],
   "source": [
    "# Reshape the variables into NumPy arrays and put them into separate objects.\n",
    "\n",
    "X = df2['incentive'].values.reshape(-1,1)\n",
    "y = df2['kwh_year'].values.reshape(-1,1)"
   ]
  },
  {
   "cell_type": "code",
   "execution_count": 84,
   "metadata": {},
   "outputs": [
    {
     "data": {
      "text/plain": [
       "array([[ 6930.],\n",
       "       [ 2520.],\n",
       "       [11025.],\n",
       "       ...,\n",
       "       [ 3180.],\n",
       "       [ 5040.],\n",
       "       [ 3920.]])"
      ]
     },
     "execution_count": 84,
     "metadata": {},
     "output_type": "execute_result"
    }
   ],
   "source": [
    "X"
   ]
  },
  {
   "cell_type": "code",
   "execution_count": 85,
   "metadata": {},
   "outputs": [
    {
     "data": {
      "text/plain": [
       "array([[11738.],\n",
       "       [ 8217.],\n",
       "       [14380.],\n",
       "       ...,\n",
       "       [ 9332.],\n",
       "       [ 6714.],\n",
       "       [11504.]])"
      ]
     },
     "execution_count": 85,
     "metadata": {},
     "output_type": "execute_result"
    }
   ],
   "source": [
    "y"
   ]
  },
  {
   "cell_type": "code",
   "execution_count": 86,
   "metadata": {
    "scrolled": true
   },
   "outputs": [],
   "source": [
    "# Split data into a training set and a test set, using 30% of the data for the test and 70% for training\n",
    "\n",
    "X_train, X_test, y_train, y_test = train_test_split(X, y, test_size=0.3, random_state=0)"
   ]
  },
  {
   "cell_type": "markdown",
   "metadata": {},
   "source": [
    "#### Create a regression object and predict values"
   ]
  },
  {
   "cell_type": "code",
   "execution_count": 87,
   "metadata": {},
   "outputs": [],
   "source": [
    "# Create a regression object.\n",
    "\n",
    "regression = LinearRegression()  # This is the regression object, which will be fit onto the training set."
   ]
  },
  {
   "cell_type": "code",
   "execution_count": 88,
   "metadata": {},
   "outputs": [
    {
     "data": {
      "text/plain": [
       "LinearRegression()"
      ]
     },
     "execution_count": 88,
     "metadata": {},
     "output_type": "execute_result"
    }
   ],
   "source": [
    "# Fit the regression object onto the training set.\n",
    "\n",
    "regression.fit(X_train, y_train)"
   ]
  },
  {
   "cell_type": "code",
   "execution_count": 89,
   "metadata": {},
   "outputs": [],
   "source": [
    "# Predict the values of y using X.\n",
    "\n",
    "y_predicted = regression.predict(X_test)"
   ]
  },
  {
   "cell_type": "code",
   "execution_count": 90,
   "metadata": {},
   "outputs": [
    {
     "data": {
      "image/png": "[encoded data removed]",
      "text/plain": [
       "<Figure size 640x480 with 1 Axes>"
      ]
     },
     "metadata": {},
     "output_type": "display_data"
    }
   ],
   "source": [
    "# Create a plot that shows the regression line from the model on the test set.\n",
    "\n",
    "plot_test = plt\n",
    "plot_test.scatter(X_test, y_test, color='green', s = 30, alpha=0.5) # s to play with the size of the dots\n",
    "plot_test.plot(X_test, y_predicted, color='yellow', linewidth =3)\n",
    "plot_test.title('Incentives versus annual PV production (Test set)')\n",
    "plot_test.xlabel('Incentives')\n",
    "plot_test.ylabel('Annual PV production in kwh/year')\n",
    "plot_test.show()"
   ]
  },
  {
   "cell_type": "markdown",
   "metadata": {},
   "source": [
    "We still see most points at the bottom that are away from the line, so it is important to check statiscal measures that tell us more about the validity of the model"
   ]
  },
  {
   "cell_type": "code",
   "execution_count": 91,
   "metadata": {},
   "outputs": [],
   "source": [
    "# Create objects that contain the model summary statistics.\n",
    "\n",
    "rmse = mean_squared_error(y_test, y_predicted) # This is the mean squared error\n",
    "r2 = r2_score(y_test, y_predicted) # This is the R2 score. "
   ]
  },
  {
   "cell_type": "code",
   "execution_count": 92,
   "metadata": {},
   "outputs": [
    {
     "name": "stdout",
     "output_type": "stream",
     "text": [
      "Slope: [[0.40258483]]\n",
      "Mean squared error:  10721490.845866079\n",
      "R2 score:  0.18341886653222406\n"
     ]
    }
   ],
   "source": [
    "# Print the model summary statistics. This is where you evaluate the performance of the model.\n",
    "\n",
    "print('Slope:' ,regression.coef_)\n",
    "print('Mean squared error: ', rmse)\n",
    "print('R2 score: ', r2)"
   ]
  },
  {
   "cell_type": "markdown",
   "metadata": {},
   "source": [
    "The slope indicates the variation is positive, nevertheless the MSE is quite big and the R2 score almost null, which shows the model is not a good fit for the data. "
   ]
  },
  {
   "cell_type": "code",
   "execution_count": 93,
   "metadata": {},
   "outputs": [
    {
     "data": {
      "text/plain": [
       "array([[ 7197.92472421],\n",
       "       [ 9440.3222052 ],\n",
       "       [ 7535.29080842],\n",
       "       ...,\n",
       "       [10371.90349263],\n",
       "       [ 6949.12730172],\n",
       "       [ 7870.64396851]])"
      ]
     },
     "execution_count": 93,
     "metadata": {},
     "output_type": "execute_result"
    }
   ],
   "source": [
    "#checking the predicted values\n",
    "y_predicted"
   ]
  },
  {
   "cell_type": "code",
   "execution_count": 94,
   "metadata": {
    "scrolled": true
   },
   "outputs": [
    {
     "data": {
      "text/html": [
       "<div>\n",
       "<style scoped>\n",
       "    .dataframe tbody tr th:only-of-type {\n",
       "        vertical-align: middle;\n",
       "    }\n",
       "\n",
       "    .dataframe tbody tr th {\n",
       "        vertical-align: top;\n",
       "    }\n",
       "\n",
       "    .dataframe thead th {\n",
       "        text-align: right;\n",
       "    }\n",
       "</style>\n",
       "<table border=\"1\" class=\"dataframe\">\n",
       "  <thead>\n",
       "    <tr style=\"text-align: right;\">\n",
       "      <th></th>\n",
       "      <th>Actual</th>\n",
       "      <th>Predicted</th>\n",
       "    </tr>\n",
       "  </thead>\n",
       "  <tbody>\n",
       "    <tr>\n",
       "      <th>0</th>\n",
       "      <td>5494.0</td>\n",
       "      <td>7197.924724</td>\n",
       "    </tr>\n",
       "    <tr>\n",
       "      <th>1</th>\n",
       "      <td>14526.0</td>\n",
       "      <td>9440.322205</td>\n",
       "    </tr>\n",
       "    <tr>\n",
       "      <th>2</th>\n",
       "      <td>8546.0</td>\n",
       "      <td>7535.290808</td>\n",
       "    </tr>\n",
       "    <tr>\n",
       "      <th>3</th>\n",
       "      <td>3592.0</td>\n",
       "      <td>8153.049172</td>\n",
       "    </tr>\n",
       "    <tr>\n",
       "      <th>4</th>\n",
       "      <td>6750.0</td>\n",
       "      <td>8060.261422</td>\n",
       "    </tr>\n",
       "    <tr>\n",
       "      <th>5</th>\n",
       "      <td>5987.0</td>\n",
       "      <td>8468.482435</td>\n",
       "    </tr>\n",
       "    <tr>\n",
       "      <th>6</th>\n",
       "      <td>16786.0</td>\n",
       "      <td>7732.154788</td>\n",
       "    </tr>\n",
       "    <tr>\n",
       "      <th>7</th>\n",
       "      <td>16058.0</td>\n",
       "      <td>8050.599386</td>\n",
       "    </tr>\n",
       "    <tr>\n",
       "      <th>8</th>\n",
       "      <td>4026.0</td>\n",
       "      <td>8329.993255</td>\n",
       "    </tr>\n",
       "    <tr>\n",
       "      <th>9</th>\n",
       "      <td>15266.0</td>\n",
       "      <td>9000.409714</td>\n",
       "    </tr>\n",
       "    <tr>\n",
       "      <th>10</th>\n",
       "      <td>9719.0</td>\n",
       "      <td>11949.230841</td>\n",
       "    </tr>\n",
       "    <tr>\n",
       "      <th>11</th>\n",
       "      <td>6198.0</td>\n",
       "      <td>7595.275948</td>\n",
       "    </tr>\n",
       "    <tr>\n",
       "      <th>12</th>\n",
       "      <td>3052.0</td>\n",
       "      <td>7472.487576</td>\n",
       "    </tr>\n",
       "    <tr>\n",
       "      <th>13</th>\n",
       "      <td>8445.0</td>\n",
       "      <td>7614.600019</td>\n",
       "    </tr>\n",
       "    <tr>\n",
       "      <th>14</th>\n",
       "      <td>14368.0</td>\n",
       "      <td>9130.831094</td>\n",
       "    </tr>\n",
       "    <tr>\n",
       "      <th>15</th>\n",
       "      <td>7477.0</td>\n",
       "      <td>8676.622816</td>\n",
       "    </tr>\n",
       "    <tr>\n",
       "      <th>16</th>\n",
       "      <td>7295.0</td>\n",
       "      <td>8700.773880</td>\n",
       "    </tr>\n",
       "    <tr>\n",
       "      <th>17</th>\n",
       "      <td>9156.0</td>\n",
       "      <td>7765.569329</td>\n",
       "    </tr>\n",
       "    <tr>\n",
       "      <th>18</th>\n",
       "      <td>12283.0</td>\n",
       "      <td>12425.488690</td>\n",
       "    </tr>\n",
       "    <tr>\n",
       "      <th>19</th>\n",
       "      <td>11075.0</td>\n",
       "      <td>8392.389877</td>\n",
       "    </tr>\n",
       "  </tbody>\n",
       "</table>\n",
       "</div>"
      ],
      "text/plain": [
       "     Actual     Predicted\n",
       "0    5494.0   7197.924724\n",
       "1   14526.0   9440.322205\n",
       "2    8546.0   7535.290808\n",
       "3    3592.0   8153.049172\n",
       "4    6750.0   8060.261422\n",
       "5    5987.0   8468.482435\n",
       "6   16786.0   7732.154788\n",
       "7   16058.0   8050.599386\n",
       "8    4026.0   8329.993255\n",
       "9   15266.0   9000.409714\n",
       "10   9719.0  11949.230841\n",
       "11   6198.0   7595.275948\n",
       "12   3052.0   7472.487576\n",
       "13   8445.0   7614.600019\n",
       "14  14368.0   9130.831094\n",
       "15   7477.0   8676.622816\n",
       "16   7295.0   8700.773880\n",
       "17   9156.0   7765.569329\n",
       "18  12283.0  12425.488690\n",
       "19  11075.0   8392.389877"
      ]
     },
     "execution_count": 94,
     "metadata": {},
     "output_type": "execute_result"
    }
   ],
   "source": [
    "# Create a dataframe comparing the actual and predicted values of y.\n",
    "\n",
    "data = pd.DataFrame({'Actual': y_test.flatten(), 'Predicted': y_predicted.flatten()})\n",
    "data.head(20)"
   ]
  },
  {
   "cell_type": "markdown",
   "metadata": {},
   "source": [
    "These results confirm the lack of fitness of the model there is a huge difference between the predicted and the atual values."
   ]
  },
  {
   "cell_type": "markdown",
   "metadata": {},
   "source": [
    "##### Compare how the regression fits the training set"
   ]
  },
  {
   "cell_type": "code",
   "execution_count": 95,
   "metadata": {},
   "outputs": [],
   "source": [
    "# Predict.\n",
    "\n",
    "y_predicted_train = regression.predict(X_train) # This is predicting X_train!"
   ]
  },
  {
   "cell_type": "code",
   "execution_count": 96,
   "metadata": {},
   "outputs": [],
   "source": [
    "rmse = mean_squared_error(y_train, y_predicted_train)\n",
    "r2 = r2_score(y_train, y_predicted_train)"
   ]
  },
  {
   "cell_type": "code",
   "execution_count": 97,
   "metadata": {},
   "outputs": [
    {
     "name": "stdout",
     "output_type": "stream",
     "text": [
      "Slope: [[0.40258483]]\n",
      "Mean squared error:  10514314.034413049\n",
      "R2 score:  0.18129789606312052\n"
     ]
    }
   ],
   "source": [
    "print('Slope:' ,regression.coef_)\n",
    "print('Mean squared error: ', rmse)\n",
    "print('R2 score: ', r2)"
   ]
  },
  {
   "cell_type": "code",
   "execution_count": 98,
   "metadata": {
    "scrolled": true
   },
   "outputs": [
    {
     "data": {
      "image/png": "[encoded data removed]",
      "text/plain": [
       "<Figure size 640x480 with 1 Axes>"
      ]
     },
     "metadata": {},
     "output_type": "display_data"
    }
   ],
   "source": [
    "# Visualizing the training set results.\n",
    "\n",
    "plot_test = plt\n",
    "plot_test.scatter(X_train, y_train, color='green', s = 15, alpha=0.5)\n",
    "plot_test.plot(X_train, y_predicted_train, color='yellow', linewidth =3)\n",
    "plot_test.title('Incentives versus annual PV production (Train set)')\n",
    "plot_test.xlabel('Incentives')\n",
    "plot_test.ylabel('Annual PV production - in kwh per year')\n",
    "plot_test.show()"
   ]
  },
  {
   "cell_type": "code",
   "execution_count": 125,
   "metadata": {},
   "outputs": [],
   "source": [
    "#Now trying a regression with more than one independent variable\n",
    "# Reshape the variables into NumPy arrays and put them into separate objects.\n",
    "\n",
    "X = df2['project_cost'].values.reshape(-1,1)\n",
    "y = df2['kwh_year'].values.reshape(-1,1)"
   ]
  },
  {
   "cell_type": "code",
   "execution_count": 126,
   "metadata": {},
   "outputs": [
    {
     "data": {
      "text/plain": [
       "array([[41800.  ],\n",
       "       [30940.  ],\n",
       "       [48387.5 ],\n",
       "       ...,\n",
       "       [28051.52],\n",
       "       [21148.  ],\n",
       "       [37740.  ]])"
      ]
     },
     "execution_count": 126,
     "metadata": {},
     "output_type": "execute_result"
    }
   ],
   "source": [
    "X"
   ]
  },
  {
   "cell_type": "code",
   "execution_count": 127,
   "metadata": {},
   "outputs": [
    {
     "data": {
      "text/plain": [
       "(70970, 1)"
      ]
     },
     "execution_count": 127,
     "metadata": {},
     "output_type": "execute_result"
    }
   ],
   "source": [
    "X.shape"
   ]
  },
  {
   "cell_type": "code",
   "execution_count": 103,
   "metadata": {},
   "outputs": [
    {
     "data": {
      "text/plain": [
       "array([[11738.],\n",
       "       [ 8217.],\n",
       "       [14380.],\n",
       "       ...,\n",
       "       [ 9332.],\n",
       "       [ 6714.],\n",
       "       [11504.]])"
      ]
     },
     "execution_count": 103,
     "metadata": {},
     "output_type": "execute_result"
    }
   ],
   "source": [
    "y"
   ]
  },
  {
   "cell_type": "markdown",
   "metadata": {},
   "source": [
    "When removing the outliers this script indicates that the regression is an even weaker model to apply, as the R2 value decreases further. Other type of analysis is required to understand the relationships between variables. "
   ]
  }
 ],
 "metadata": {
  "kernelspec": {
   "display_name": "Python 3 (ipykernel)",
   "language": "python",
   "name": "python3"
  },
  "language_info": {
   "codemirror_mode": {
    "name": "ipython",
    "version": 3
   },
   "file_extension": ".py",
   "mimetype": "text/x-python",
   "name": "python",
   "nbconvert_exporter": "python",
   "pygments_lexer": "ipython3",
   "version": "3.9.13"
  }
 },
 "nbformat": 4,
 "nbformat_minor": 4
}
