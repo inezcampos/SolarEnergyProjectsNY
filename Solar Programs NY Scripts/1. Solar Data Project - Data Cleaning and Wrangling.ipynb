{
 "cells": [
  {
   "cell_type": "markdown",
   "id": "f2043d97",
   "metadata": {},
   "source": [
    "###  Solar Electric Programs Reported In the State of New York - Data Project"
   ]
  },
  {
   "cell_type": "markdown",
   "id": "4e7b5ff9",
   "metadata": {},
   "source": [
    " The dataset includes a comprehensive record of distributed solar energy projects completed and in the pipeline in New York State, because of the New York State’s Incentive Program/ NYSERDA Incentive Program (for decentralized solar energy projects). The projects recorded span from 2000 to 2017. The data includes project costs, size, type of PV modules, incentives, and program types, as well as several other variables, such as green jobs created, that enable gaining insights into how to advance with the green energy transition at the community/citizens’ levels."
   ]
  },
  {
   "cell_type": "markdown",
   "id": "d25e9c96",
   "metadata": {},
   "source": [
    "## Contents"
   ]
  },
  {
   "cell_type": "markdown",
   "id": "ed6765fe",
   "metadata": {},
   "source": [
    "##### This script includes a set of data cleaning steps for preparing the dataset"
   ]
  },
  {
   "cell_type": "markdown",
   "id": "9d293612",
   "metadata": {},
   "source": [
    "#### 1. Importing Data"
   ]
  },
  {
   "cell_type": "markdown",
   "id": "dc957c87",
   "metadata": {},
   "source": [
    "#### 2. Checking Data Types"
   ]
  },
  {
   "cell_type": "markdown",
   "id": "b452336d",
   "metadata": {},
   "source": [
    "#### 3. Drop Columns"
   ]
  },
  {
   "cell_type": "markdown",
   "id": "913742cf",
   "metadata": {},
   "source": [
    "#### 4. Check for Missing Values"
   ]
  },
  {
   "cell_type": "markdown",
   "id": "23ddb79c",
   "metadata": {},
   "source": [
    "#### 5.Check for Duplicates"
   ]
  },
  {
   "cell_type": "markdown",
   "id": "5ce412de",
   "metadata": {},
   "source": [
    "#### 6. Descriptive Statistics"
   ]
  },
  {
   "cell_type": "markdown",
   "id": "a2ac2196",
   "metadata": {},
   "source": [
    "#### 7. Checking Distribution"
   ]
  },
  {
   "cell_type": "markdown",
   "id": "d56bf8a4",
   "metadata": {},
   "source": [
    "#### 8. Exporting data to a pickle file"
   ]
  },
  {
   "cell_type": "code",
   "execution_count": 1,
   "id": "ef5924c0",
   "metadata": {},
   "outputs": [],
   "source": [
    "#importing libraries\n",
    "import pandas as pd\n",
    "import numpy as np\n",
    "import os\n",
    "import matplotlib.pyplot as plt\n",
    "import seaborn as sns\n",
    "import scipy"
   ]
  },
  {
   "cell_type": "markdown",
   "id": "3d87a3a8",
   "metadata": {},
   "source": [
    "### 1. Importing Data"
   ]
  },
  {
   "cell_type": "code",
   "execution_count": 2,
   "id": "54809f91",
   "metadata": {},
   "outputs": [],
   "source": [
    "#creating a path\n",
    "path= r'C:\\Users\\ii\\OneDrive\\02052023Solar Programs NY'"
   ]
  },
  {
   "cell_type": "code",
   "execution_count": 3,
   "id": "3a4f831c",
   "metadata": {},
   "outputs": [
    {
     "data": {
      "text/plain": [
       "'C:\\\\Users\\\\isobr\\\\OneDrive\\\\02052023Solar Programs NY'"
      ]
     },
     "execution_count": 3,
     "metadata": {},
     "output_type": "execute_result"
    }
   ],
   "source": [
    "path"
   ]
  },
  {
   "cell_type": "code",
   "execution_count": 4,
   "id": "43e4837f",
   "metadata": {},
   "outputs": [],
   "source": [
    "#importing the excel dataset\n",
    "df_solar = pd.read_excel(os.path.join(path, '02. Prepared data', 'solar_power_NY.xlsx'), index_col = False)"
   ]
  },
  {
   "cell_type": "code",
   "execution_count": 5,
   "id": "3533716d",
   "metadata": {},
   "outputs": [
    {
     "data": {
      "text/html": [
       "<div>\n",
       "<style scoped>\n",
       "    .dataframe tbody tr th:only-of-type {\n",
       "        vertical-align: middle;\n",
       "    }\n",
       "\n",
       "    .dataframe tbody tr th {\n",
       "        vertical-align: top;\n",
       "    }\n",
       "\n",
       "    .dataframe thead th {\n",
       "        text-align: right;\n",
       "    }\n",
       "</style>\n",
       "<table border=\"1\" class=\"dataframe\">\n",
       "  <thead>\n",
       "    <tr style=\"text-align: right;\">\n",
       "      <th></th>\n",
       "      <th>index</th>\n",
       "      <th>project_number</th>\n",
       "      <th>city</th>\n",
       "      <th>county</th>\n",
       "      <th>state</th>\n",
       "      <th>zip_code</th>\n",
       "      <th>sector</th>\n",
       "      <th>program_type</th>\n",
       "      <th>solicitation</th>\n",
       "      <th>electric_utility</th>\n",
       "      <th>...</th>\n",
       "      <th>incentive</th>\n",
       "      <th>total_nameplate_kw_dc</th>\n",
       "      <th>expected_kwh_annual_production</th>\n",
       "      <th>remote_net_metering</th>\n",
       "      <th>affordable_solar</th>\n",
       "      <th>community_distributed_generation</th>\n",
       "      <th>green_jobs_participant</th>\n",
       "      <th>location_data</th>\n",
       "      <th>Latitude, longitude</th>\n",
       "      <th>Latitude</th>\n",
       "    </tr>\n",
       "  </thead>\n",
       "  <tbody>\n",
       "    <tr>\n",
       "      <th>0</th>\n",
       "      <td>0</td>\n",
       "      <td>5137-49041</td>\n",
       "      <td>Maine</td>\n",
       "      <td>Broome</td>\n",
       "      <td>NY</td>\n",
       "      <td>13802</td>\n",
       "      <td>Residential</td>\n",
       "      <td>Residential/Small Commercial</td>\n",
       "      <td>PON 2112</td>\n",
       "      <td>NYS Electric and Gas</td>\n",
       "      <td>...</td>\n",
       "      <td>6930.0</td>\n",
       "      <td>10.00</td>\n",
       "      <td>11738.0</td>\n",
       "      <td>No</td>\n",
       "      <td>No</td>\n",
       "      <td>No</td>\n",
       "      <td>NaN</td>\n",
       "      <td>Maine, NY 13802\\n(42.240938, -76.047937)</td>\n",
       "      <td>42.240938, -76.047937)</td>\n",
       "      <td>42.240938</td>\n",
       "    </tr>\n",
       "    <tr>\n",
       "      <th>1</th>\n",
       "      <td>1</td>\n",
       "      <td>5137-46019</td>\n",
       "      <td>Levittown</td>\n",
       "      <td>Nassau</td>\n",
       "      <td>NY</td>\n",
       "      <td>11756</td>\n",
       "      <td>Residential</td>\n",
       "      <td>Residential/Small Commercial</td>\n",
       "      <td>PON 2112LI</td>\n",
       "      <td>PSEG Long Island</td>\n",
       "      <td>...</td>\n",
       "      <td>2520.0</td>\n",
       "      <td>7.00</td>\n",
       "      <td>8217.0</td>\n",
       "      <td>No</td>\n",
       "      <td>No</td>\n",
       "      <td>No</td>\n",
       "      <td>NaN</td>\n",
       "      <td>Levittown, NY 11756\\n(40.725845, -73.517198)</td>\n",
       "      <td>40.725845, -73.517198)</td>\n",
       "      <td>40.725845</td>\n",
       "    </tr>\n",
       "    <tr>\n",
       "      <th>2</th>\n",
       "      <td>2</td>\n",
       "      <td>5137-52151</td>\n",
       "      <td>Cortland</td>\n",
       "      <td>Cortland</td>\n",
       "      <td>NY</td>\n",
       "      <td>13045</td>\n",
       "      <td>Residential</td>\n",
       "      <td>Residential/Small Commercial</td>\n",
       "      <td>PON 2112</td>\n",
       "      <td>National Grid</td>\n",
       "      <td>...</td>\n",
       "      <td>11025.0</td>\n",
       "      <td>12.25</td>\n",
       "      <td>14380.0</td>\n",
       "      <td>No</td>\n",
       "      <td>No</td>\n",
       "      <td>No</td>\n",
       "      <td>NaN</td>\n",
       "      <td>Cortland, NY 13045\\n(42.588691, -76.185061)</td>\n",
       "      <td>42.588691, -76.185061)</td>\n",
       "      <td>42.588691</td>\n",
       "    </tr>\n",
       "    <tr>\n",
       "      <th>3</th>\n",
       "      <td>3</td>\n",
       "      <td>5129-94109</td>\n",
       "      <td>Staten Island</td>\n",
       "      <td>Richmond</td>\n",
       "      <td>NY</td>\n",
       "      <td>10314</td>\n",
       "      <td>Residential</td>\n",
       "      <td>Residential/Small Commercial</td>\n",
       "      <td>PON 2112</td>\n",
       "      <td>Consolidated Edison</td>\n",
       "      <td>...</td>\n",
       "      <td>2943.0</td>\n",
       "      <td>4.91</td>\n",
       "      <td>5758.0</td>\n",
       "      <td>No</td>\n",
       "      <td>No</td>\n",
       "      <td>No</td>\n",
       "      <td>NaN</td>\n",
       "      <td>Staten Island, NY 10314\\n(40.604049, -74.152798)</td>\n",
       "      <td>40.604049, -74.152798)</td>\n",
       "      <td>40.604049</td>\n",
       "    </tr>\n",
       "    <tr>\n",
       "      <th>4</th>\n",
       "      <td>4</td>\n",
       "      <td>5137-46454</td>\n",
       "      <td>Warwick</td>\n",
       "      <td>Orange</td>\n",
       "      <td>NY</td>\n",
       "      <td>10990</td>\n",
       "      <td>Residential</td>\n",
       "      <td>Residential/Small Commercial</td>\n",
       "      <td>PON 2112</td>\n",
       "      <td>Orange and Rockland Utilities</td>\n",
       "      <td>...</td>\n",
       "      <td>5720.0</td>\n",
       "      <td>5.72</td>\n",
       "      <td>6714.0</td>\n",
       "      <td>No</td>\n",
       "      <td>No</td>\n",
       "      <td>No</td>\n",
       "      <td>NaN</td>\n",
       "      <td>Warwick, NY 10990\\n(41.263165, -74.365461)</td>\n",
       "      <td>41.263165, -74.365461)</td>\n",
       "      <td>41.263165</td>\n",
       "    </tr>\n",
       "  </tbody>\n",
       "</table>\n",
       "<p>5 rows × 32 columns</p>\n",
       "</div>"
      ],
      "text/plain": [
       "   index project_number           city    county state  zip_code       sector  \\\n",
       "0      0     5137-49041          Maine    Broome    NY     13802  Residential   \n",
       "1      1     5137-46019      Levittown    Nassau    NY     11756  Residential   \n",
       "2      2     5137-52151       Cortland  Cortland    NY     13045  Residential   \n",
       "3      3     5129-94109  Staten Island  Richmond    NY     10314  Residential   \n",
       "4      4     5137-46454        Warwick    Orange    NY     10990  Residential   \n",
       "\n",
       "                   program_type solicitation               electric_utility  \\\n",
       "0  Residential/Small Commercial     PON 2112           NYS Electric and Gas   \n",
       "1  Residential/Small Commercial   PON 2112LI               PSEG Long Island   \n",
       "2  Residential/Small Commercial     PON 2112                  National Grid   \n",
       "3  Residential/Small Commercial     PON 2112            Consolidated Edison   \n",
       "4  Residential/Small Commercial     PON 2112  Orange and Rockland Utilities   \n",
       "\n",
       "   ... incentive total_nameplate_kw_dc expected_kwh_annual_production  \\\n",
       "0  ...    6930.0                 10.00                        11738.0   \n",
       "1  ...    2520.0                  7.00                         8217.0   \n",
       "2  ...   11025.0                 12.25                        14380.0   \n",
       "3  ...    2943.0                  4.91                         5758.0   \n",
       "4  ...    5720.0                  5.72                         6714.0   \n",
       "\n",
       "  remote_net_metering affordable_solar community_distributed_generation  \\\n",
       "0                  No               No                               No   \n",
       "1                  No               No                               No   \n",
       "2                  No               No                               No   \n",
       "3                  No               No                               No   \n",
       "4                  No               No                               No   \n",
       "\n",
       "  green_jobs_participant                                     location_data  \\\n",
       "0                    NaN          Maine, NY 13802\\n(42.240938, -76.047937)   \n",
       "1                    NaN      Levittown, NY 11756\\n(40.725845, -73.517198)   \n",
       "2                    NaN       Cortland, NY 13045\\n(42.588691, -76.185061)   \n",
       "3                    NaN  Staten Island, NY 10314\\n(40.604049, -74.152798)   \n",
       "4                    NaN        Warwick, NY 10990\\n(41.263165, -74.365461)   \n",
       "\n",
       "      Latitude, longitude   Latitude  \n",
       "0  42.240938, -76.047937)  42.240938  \n",
       "1  40.725845, -73.517198)  40.725845  \n",
       "2  42.588691, -76.185061)  42.588691  \n",
       "3  40.604049, -74.152798)  40.604049  \n",
       "4  41.263165, -74.365461)  41.263165  \n",
       "\n",
       "[5 rows x 32 columns]"
      ]
     },
     "execution_count": 5,
     "metadata": {},
     "output_type": "execute_result"
    }
   ],
   "source": [
    "df_solar.head()"
   ]
  },
  {
   "cell_type": "code",
   "execution_count": 6,
   "id": "7400e6f8",
   "metadata": {},
   "outputs": [
    {
     "data": {
      "text/plain": [
       "(84721, 32)"
      ]
     },
     "execution_count": 6,
     "metadata": {},
     "output_type": "execute_result"
    }
   ],
   "source": [
    "df_solar.shape"
   ]
  },
  {
   "cell_type": "markdown",
   "id": "7dd22ca2",
   "metadata": {},
   "source": [
    "The dataset has 30 columns and 84721 observations"
   ]
  },
  {
   "cell_type": "markdown",
   "id": "85f533d5",
   "metadata": {},
   "source": [
    "### 2. Checking Data Types"
   ]
  },
  {
   "cell_type": "code",
   "execution_count": 7,
   "id": "324f428a",
   "metadata": {},
   "outputs": [
    {
     "data": {
      "text/plain": [
       "index                                 int64\n",
       "project_number                       object\n",
       "city                                 object\n",
       "county                               object\n",
       "state                                object\n",
       "zip_code                              int64\n",
       "sector                               object\n",
       "program_type                         object\n",
       "solicitation                         object\n",
       "electric_utility                     object\n",
       "purchase_type                        object\n",
       "date_application_received            object\n",
       "date_completed                       object\n",
       "project_status                       object\n",
       "contractor                           object\n",
       "Primary Inverter Manufacturer        object\n",
       "primary_inverter_model_number        object\n",
       "total_inverter_quantity             float64\n",
       "primary_pv_module_manufacturer       object\n",
       "pv_module_model_number               object\n",
       "total_pv_ module_quantity           float64\n",
       "project_cost                        float64\n",
       "incentive                           float64\n",
       "total_nameplate_kw_dc               float64\n",
       "expected_kwh_annual_production      float64\n",
       "remote_net_metering                  object\n",
       "affordable_solar                     object\n",
       "community_distributed_generation     object\n",
       "green_jobs_participant               object\n",
       "location_data                        object\n",
       "Latitude, longitude                  object\n",
       "Latitude                             object\n",
       "dtype: object"
      ]
     },
     "execution_count": 7,
     "metadata": {},
     "output_type": "execute_result"
    }
   ],
   "source": [
    "df_solar.dtypes"
   ]
  },
  {
   "cell_type": "markdown",
   "id": "e3db6a42",
   "metadata": {},
   "source": [
    "Some variables need to have a different data type, for instance dates are not yet read as dates, the same for some of the last variables which should be bolean types. "
   ]
  },
  {
   "cell_type": "code",
   "execution_count": 8,
   "id": "42dcb439",
   "metadata": {},
   "outputs": [],
   "source": [
    "#Convert the data_application_received to date data type\n",
    "df_solar['date_application_received']= pd.to_datetime(df_solar['date_application_received'])"
   ]
  },
  {
   "cell_type": "code",
   "execution_count": 9,
   "id": "8d713200",
   "metadata": {},
   "outputs": [],
   "source": [
    "#Convert the date_completed to date data type\n",
    "df_solar['date_completed']= pd.to_datetime(df_solar['date_completed'])"
   ]
  },
  {
   "cell_type": "code",
   "execution_count": 10,
   "id": "dfdfd857",
   "metadata": {},
   "outputs": [],
   "source": [
    "#Convert affordable_solar to bolean\n",
    "df_solar['affordable_solar'] = df_solar['affordable_solar'].replace({'Yes': True, 'No': False})"
   ]
  },
  {
   "cell_type": "code",
   "execution_count": 11,
   "id": "60645a5f",
   "metadata": {},
   "outputs": [],
   "source": [
    "#Convert community_distributed_generation to bolean\n",
    "df_solar['community_distributed_generation'] = df_solar['community_distributed_generation'].replace({'Yes': True, 'No': False})"
   ]
  },
  {
   "cell_type": "code",
   "execution_count": 12,
   "id": "3fc78970",
   "metadata": {},
   "outputs": [
    {
     "name": "stdout",
     "output_type": "stream",
     "text": [
      "<class 'pandas.core.frame.DataFrame'>\n",
      "RangeIndex: 84721 entries, 0 to 84720\n",
      "Data columns (total 32 columns):\n",
      " #   Column                            Non-Null Count  Dtype         \n",
      "---  ------                            --------------  -----         \n",
      " 0   index                             84721 non-null  int64         \n",
      " 1   project_number                    84721 non-null  object        \n",
      " 2   city                              84721 non-null  object        \n",
      " 3   county                            84721 non-null  object        \n",
      " 4   state                             84721 non-null  object        \n",
      " 5   zip_code                          84721 non-null  int64         \n",
      " 6   sector                            84721 non-null  object        \n",
      " 7   program_type                      84721 non-null  object        \n",
      " 8   solicitation                      84721 non-null  object        \n",
      " 9   electric_utility                  84721 non-null  object        \n",
      " 10  purchase_type                     79613 non-null  object        \n",
      " 11  date_application_received         84721 non-null  datetime64[ns]\n",
      " 12  date_completed                    80029 non-null  datetime64[ns]\n",
      " 13  project_status                    84721 non-null  object        \n",
      " 14  contractor                        76393 non-null  object        \n",
      " 15  Primary Inverter Manufacturer     80747 non-null  object        \n",
      " 16  primary_inverter_model_number     71899 non-null  object        \n",
      " 17  total_inverter_quantity           80661 non-null  float64       \n",
      " 18  primary_pv_module_manufacturer    80804 non-null  object        \n",
      " 19  pv_module_model_number            71897 non-null  object        \n",
      " 20  total_pv_ module_quantity         80683 non-null  float64       \n",
      " 21  project_cost                      84534 non-null  float64       \n",
      " 22  incentive                         84707 non-null  float64       \n",
      " 23  total_nameplate_kw_dc             84721 non-null  float64       \n",
      " 24  expected_kwh_annual_production    84721 non-null  float64       \n",
      " 25  remote_net_metering               45206 non-null  object        \n",
      " 26  affordable_solar                  84721 non-null  bool          \n",
      " 27  community_distributed_generation  84721 non-null  bool          \n",
      " 28  green_jobs_participant            7298 non-null   object        \n",
      " 29  location_data                     84721 non-null  object        \n",
      " 30  Latitude, longitude               84721 non-null  object        \n",
      " 31  Latitude                          84721 non-null  object        \n",
      "dtypes: bool(2), datetime64[ns](2), float64(6), int64(2), object(20)\n",
      "memory usage: 19.6+ MB\n"
     ]
    }
   ],
   "source": [
    "df_solar.info()"
   ]
  },
  {
   "cell_type": "code",
   "execution_count": 13,
   "id": "a0082984",
   "metadata": {},
   "outputs": [
    {
     "name": "stdout",
     "output_type": "stream",
     "text": [
      "purchase_type\n",
      "date_completed\n",
      "contractor\n",
      "Primary Inverter Manufacturer\n",
      "primary_inverter_model_number\n",
      "primary_pv_module_manufacturer\n",
      "pv_module_model_number\n",
      "remote_net_metering\n",
      "green_jobs_participant\n"
     ]
    }
   ],
   "source": [
    "#checking for variables with mixed data types\n",
    "for col in df_solar.columns.tolist():\n",
    "  weird = (df_solar[[col]].applymap(type) != df_solar[[col]].iloc[0].apply(type)).any(axis = 1)\n",
    "  if len (df_solar[weird]) > 0:\n",
    "    print (col)"
   ]
  },
  {
   "cell_type": "markdown",
   "id": "696c9510",
   "metadata": {},
   "source": [
    "These columns have all mixed data types, and need to be checked. Some of the these columns however are not relevant for the analysis and will be dropped.  "
   ]
  },
  {
   "cell_type": "markdown",
   "id": "6eb40d6d",
   "metadata": {},
   "source": [
    "### 3. Drop columns"
   ]
  },
  {
   "cell_type": "code",
   "execution_count": 14,
   "id": "d0efd3d3",
   "metadata": {},
   "outputs": [
    {
     "data": {
      "text/plain": [
       "Index(['index', 'project_number', 'city', 'county', 'state', 'zip_code',\n",
       "       'sector', 'program_type', 'solicitation', 'electric_utility',\n",
       "       'purchase_type', 'date_application_received', 'date_completed',\n",
       "       'project_status', 'contractor', 'Primary Inverter Manufacturer',\n",
       "       'primary_inverter_model_number', 'total_inverter_quantity',\n",
       "       'primary_pv_module_manufacturer', 'pv_module_model_number',\n",
       "       'total_pv_ module_quantity', 'project_cost', 'incentive',\n",
       "       'total_nameplate_kw_dc', 'expected_kwh_annual_production',\n",
       "       'remote_net_metering', 'affordable_solar',\n",
       "       'community_distributed_generation', 'green_jobs_participant',\n",
       "       'location_data', 'Latitude, longitude', 'Latitude'],\n",
       "      dtype='object')"
      ]
     },
     "execution_count": 14,
     "metadata": {},
     "output_type": "execute_result"
    }
   ],
   "source": [
    "df_solar.columns"
   ]
  },
  {
   "cell_type": "code",
   "execution_count": 15,
   "id": "e9e63b51",
   "metadata": {},
   "outputs": [],
   "source": [
    "#some variables are not useful for the analysis so they can be dropped \n",
    "df_solar = df_solar.drop(columns = ['solicitation', 'contractor','Primary Inverter Manufacturer',\n",
    "       'primary_inverter_model_number', 'primary_pv_module_manufacturer','pv_module_model_number'])"
   ]
  },
  {
   "cell_type": "code",
   "execution_count": 16,
   "id": "b91a390d",
   "metadata": {},
   "outputs": [
    {
     "data": {
      "text/plain": [
       "(84721, 26)"
      ]
     },
     "execution_count": 16,
     "metadata": {},
     "output_type": "execute_result"
    }
   ],
   "source": [
    "df_solar.shape"
   ]
  },
  {
   "cell_type": "code",
   "execution_count": 17,
   "id": "d561158e",
   "metadata": {},
   "outputs": [
    {
     "data": {
      "text/plain": [
       "Index(['index', 'project_number', 'city', 'county', 'state', 'zip_code',\n",
       "       'sector', 'program_type', 'electric_utility', 'purchase_type',\n",
       "       'date_application_received', 'date_completed', 'project_status',\n",
       "       'total_inverter_quantity', 'total_pv_ module_quantity', 'project_cost',\n",
       "       'incentive', 'total_nameplate_kw_dc', 'expected_kwh_annual_production',\n",
       "       'remote_net_metering', 'affordable_solar',\n",
       "       'community_distributed_generation', 'green_jobs_participant',\n",
       "       'location_data', 'Latitude, longitude', 'Latitude'],\n",
       "      dtype='object')"
      ]
     },
     "execution_count": 17,
     "metadata": {},
     "output_type": "execute_result"
    }
   ],
   "source": [
    "# checking the columns\n",
    "df_solar.columns"
   ]
  },
  {
   "cell_type": "code",
   "execution_count": 18,
   "id": "39afbe1b",
   "metadata": {},
   "outputs": [
    {
     "name": "stdout",
     "output_type": "stream",
     "text": [
      "purchase_type\n",
      "date_completed\n",
      "remote_net_metering\n",
      "green_jobs_participant\n"
     ]
    }
   ],
   "source": [
    "#checking for variables with mixed data types\n",
    "for col in df_solar.columns.tolist():\n",
    "  weird = (df_solar[[col]].applymap(type) != df_solar[[col]].iloc[0].apply(type)).any(axis = 1)\n",
    "  if len (df_solar[weird]) > 0:\n",
    "    print (col)"
   ]
  },
  {
   "cell_type": "markdown",
   "id": "b5196a18",
   "metadata": {},
   "source": [
    "We still have four columns with mixed data types, likely some have null values that need to be handled, so next step is checking for missing values."
   ]
  },
  {
   "cell_type": "markdown",
   "id": "920401c0",
   "metadata": {},
   "source": [
    "### 4. Check for Missing Values"
   ]
  },
  {
   "cell_type": "code",
   "execution_count": 19,
   "id": "a9939f9d",
   "metadata": {},
   "outputs": [
    {
     "data": {
      "text/plain": [
       "index                                   0\n",
       "project_number                          0\n",
       "city                                    0\n",
       "county                                  0\n",
       "state                                   0\n",
       "zip_code                                0\n",
       "sector                                  0\n",
       "program_type                            0\n",
       "electric_utility                        0\n",
       "purchase_type                        5108\n",
       "date_application_received               0\n",
       "date_completed                       4692\n",
       "project_status                          0\n",
       "total_inverter_quantity              4060\n",
       "total_pv_ module_quantity            4038\n",
       "project_cost                          187\n",
       "incentive                              14\n",
       "total_nameplate_kw_dc                   0\n",
       "expected_kwh_annual_production          0\n",
       "remote_net_metering                 39515\n",
       "affordable_solar                        0\n",
       "community_distributed_generation        0\n",
       "green_jobs_participant              77423\n",
       "location_data                           0\n",
       "Latitude, longitude                     0\n",
       "Latitude                                0\n",
       "dtype: int64"
      ]
     },
     "execution_count": 19,
     "metadata": {},
     "output_type": "execute_result"
    }
   ],
   "source": [
    "df_solar.isnull().sum()"
   ]
  },
  {
   "cell_type": "markdown",
   "id": "8bac7e0e",
   "metadata": {},
   "source": [
    "Missing values for purchase type, which is a nominal variable cannot be imputed, we just leave it as it is. For \"date_completed\" for now we can also leave the values missing and/or delete this column too, since it will not be used in the analysis. For total PV module quantity, the missing value could be inputted through the regression value with the project cost, because these two variables are likely to be correlated. Also, the missing values for project cost may be inputed by adding the predictive value of a regression (with e.g., total_nameplate_kw_dc, which is likely correlated to the project cost) plus a random residual value (i.e., stochastic regression imputation). For incentives, the missing values make up 0.01% of the data, so I could input the mean value, or a 'hot deck imputation' (https://www.theanalysisfactor.com/seven-ways-to-make-up-data-common-methods-to-imputing-missing-data/). For now, I will not input any of the missing values."
   ]
  },
  {
   "cell_type": "markdown",
   "id": "5f7dc269",
   "metadata": {},
   "source": [
    "### 5.Check for Duplicates"
   ]
  },
  {
   "cell_type": "code",
   "execution_count": 20,
   "id": "f5ceaa02",
   "metadata": {},
   "outputs": [],
   "source": [
    "#Checking for duplicates\n",
    "df_solar_dup = df_solar [df_solar.duplicated()]"
   ]
  },
  {
   "cell_type": "code",
   "execution_count": 21,
   "id": "dc94853a",
   "metadata": {},
   "outputs": [
    {
     "data": {
      "text/html": [
       "<div>\n",
       "<style scoped>\n",
       "    .dataframe tbody tr th:only-of-type {\n",
       "        vertical-align: middle;\n",
       "    }\n",
       "\n",
       "    .dataframe tbody tr th {\n",
       "        vertical-align: top;\n",
       "    }\n",
       "\n",
       "    .dataframe thead th {\n",
       "        text-align: right;\n",
       "    }\n",
       "</style>\n",
       "<table border=\"1\" class=\"dataframe\">\n",
       "  <thead>\n",
       "    <tr style=\"text-align: right;\">\n",
       "      <th></th>\n",
       "      <th>index</th>\n",
       "      <th>project_number</th>\n",
       "      <th>city</th>\n",
       "      <th>county</th>\n",
       "      <th>state</th>\n",
       "      <th>zip_code</th>\n",
       "      <th>sector</th>\n",
       "      <th>program_type</th>\n",
       "      <th>electric_utility</th>\n",
       "      <th>purchase_type</th>\n",
       "      <th>...</th>\n",
       "      <th>incentive</th>\n",
       "      <th>total_nameplate_kw_dc</th>\n",
       "      <th>expected_kwh_annual_production</th>\n",
       "      <th>remote_net_metering</th>\n",
       "      <th>affordable_solar</th>\n",
       "      <th>community_distributed_generation</th>\n",
       "      <th>green_jobs_participant</th>\n",
       "      <th>location_data</th>\n",
       "      <th>Latitude, longitude</th>\n",
       "      <th>Latitude</th>\n",
       "    </tr>\n",
       "  </thead>\n",
       "  <tbody>\n",
       "  </tbody>\n",
       "</table>\n",
       "<p>0 rows × 26 columns</p>\n",
       "</div>"
      ],
      "text/plain": [
       "Empty DataFrame\n",
       "Columns: [index, project_number, city, county, state, zip_code, sector, program_type, electric_utility, purchase_type, date_application_received, date_completed, project_status, total_inverter_quantity, total_pv_ module_quantity, project_cost, incentive, total_nameplate_kw_dc, expected_kwh_annual_production, remote_net_metering, affordable_solar, community_distributed_generation, green_jobs_participant, location_data, Latitude, longitude, Latitude]\n",
       "Index: []\n",
       "\n",
       "[0 rows x 26 columns]"
      ]
     },
     "execution_count": 21,
     "metadata": {},
     "output_type": "execute_result"
    }
   ],
   "source": [
    "df_solar_dup"
   ]
  },
  {
   "cell_type": "markdown",
   "id": "857c7ac9",
   "metadata": {},
   "source": [
    "There are no duplicate values"
   ]
  },
  {
   "cell_type": "markdown",
   "id": "9d5a15ac",
   "metadata": {},
   "source": [
    "### 6. Descriptive Statistics"
   ]
  },
  {
   "cell_type": "code",
   "execution_count": 22,
   "id": "74576847",
   "metadata": {},
   "outputs": [
    {
     "data": {
      "text/html": [
       "<div>\n",
       "<style scoped>\n",
       "    .dataframe tbody tr th:only-of-type {\n",
       "        vertical-align: middle;\n",
       "    }\n",
       "\n",
       "    .dataframe tbody tr th {\n",
       "        vertical-align: top;\n",
       "    }\n",
       "\n",
       "    .dataframe thead th {\n",
       "        text-align: right;\n",
       "    }\n",
       "</style>\n",
       "<table border=\"1\" class=\"dataframe\">\n",
       "  <thead>\n",
       "    <tr style=\"text-align: right;\">\n",
       "      <th></th>\n",
       "      <th>index</th>\n",
       "      <th>zip_code</th>\n",
       "      <th>total_inverter_quantity</th>\n",
       "      <th>total_pv_ module_quantity</th>\n",
       "      <th>project_cost</th>\n",
       "      <th>incentive</th>\n",
       "      <th>total_nameplate_kw_dc</th>\n",
       "      <th>expected_kwh_annual_production</th>\n",
       "    </tr>\n",
       "  </thead>\n",
       "  <tbody>\n",
       "    <tr>\n",
       "      <th>count</th>\n",
       "      <td>84721.000000</td>\n",
       "      <td>84721.000000</td>\n",
       "      <td>80661.000000</td>\n",
       "      <td>80683.000000</td>\n",
       "      <td>8.453400e+04</td>\n",
       "      <td>8.470700e+04</td>\n",
       "      <td>84721.000000</td>\n",
       "      <td>8.472100e+04</td>\n",
       "    </tr>\n",
       "    <tr>\n",
       "      <th>mean</th>\n",
       "      <td>42360.000000</td>\n",
       "      <td>11928.055110</td>\n",
       "      <td>8.467078</td>\n",
       "      <td>74.635723</td>\n",
       "      <td>7.349231e+04</td>\n",
       "      <td>1.398508e+04</td>\n",
       "      <td>24.660494</td>\n",
       "      <td>2.874277e+04</td>\n",
       "    </tr>\n",
       "    <tr>\n",
       "      <th>std</th>\n",
       "      <td>24456.990415</td>\n",
       "      <td>1091.919839</td>\n",
       "      <td>15.901317</td>\n",
       "      <td>551.596685</td>\n",
       "      <td>3.854108e+05</td>\n",
       "      <td>7.625908e+04</td>\n",
       "      <td>194.741712</td>\n",
       "      <td>2.270106e+05</td>\n",
       "    </tr>\n",
       "    <tr>\n",
       "      <th>min</th>\n",
       "      <td>0.000000</td>\n",
       "      <td>501.000000</td>\n",
       "      <td>1.000000</td>\n",
       "      <td>1.000000</td>\n",
       "      <td>1.500000e+02</td>\n",
       "      <td>0.000000e+00</td>\n",
       "      <td>0.140000</td>\n",
       "      <td>1.640000e+02</td>\n",
       "    </tr>\n",
       "    <tr>\n",
       "      <th>25%</th>\n",
       "      <td>21180.000000</td>\n",
       "      <td>11233.000000</td>\n",
       "      <td>1.000000</td>\n",
       "      <td>19.000000</td>\n",
       "      <td>2.295000e+04</td>\n",
       "      <td>2.070000e+03</td>\n",
       "      <td>5.100000</td>\n",
       "      <td>5.987000e+03</td>\n",
       "    </tr>\n",
       "    <tr>\n",
       "      <th>50%</th>\n",
       "      <td>42360.000000</td>\n",
       "      <td>11758.000000</td>\n",
       "      <td>1.000000</td>\n",
       "      <td>26.000000</td>\n",
       "      <td>3.240000e+04</td>\n",
       "      <td>3.780000e+03</td>\n",
       "      <td>7.140000</td>\n",
       "      <td>8.381000e+03</td>\n",
       "    </tr>\n",
       "    <tr>\n",
       "      <th>75%</th>\n",
       "      <td>63540.000000</td>\n",
       "      <td>12498.000000</td>\n",
       "      <td>12.000000</td>\n",
       "      <td>36.000000</td>\n",
       "      <td>4.579200e+04</td>\n",
       "      <td>8.160000e+03</td>\n",
       "      <td>9.920000</td>\n",
       "      <td>1.164400e+04</td>\n",
       "    </tr>\n",
       "    <tr>\n",
       "      <th>max</th>\n",
       "      <td>84720.000000</td>\n",
       "      <td>15787.000000</td>\n",
       "      <td>800.000000</td>\n",
       "      <td>14800.000000</td>\n",
       "      <td>2.267184e+07</td>\n",
       "      <td>3.290860e+06</td>\n",
       "      <td>5799.420000</td>\n",
       "      <td>6.807591e+06</td>\n",
       "    </tr>\n",
       "  </tbody>\n",
       "</table>\n",
       "</div>"
      ],
      "text/plain": [
       "              index      zip_code  total_inverter_quantity  \\\n",
       "count  84721.000000  84721.000000             80661.000000   \n",
       "mean   42360.000000  11928.055110                 8.467078   \n",
       "std    24456.990415   1091.919839                15.901317   \n",
       "min        0.000000    501.000000                 1.000000   \n",
       "25%    21180.000000  11233.000000                 1.000000   \n",
       "50%    42360.000000  11758.000000                 1.000000   \n",
       "75%    63540.000000  12498.000000                12.000000   \n",
       "max    84720.000000  15787.000000               800.000000   \n",
       "\n",
       "       total_pv_ module_quantity  project_cost     incentive  \\\n",
       "count               80683.000000  8.453400e+04  8.470700e+04   \n",
       "mean                   74.635723  7.349231e+04  1.398508e+04   \n",
       "std                   551.596685  3.854108e+05  7.625908e+04   \n",
       "min                     1.000000  1.500000e+02  0.000000e+00   \n",
       "25%                    19.000000  2.295000e+04  2.070000e+03   \n",
       "50%                    26.000000  3.240000e+04  3.780000e+03   \n",
       "75%                    36.000000  4.579200e+04  8.160000e+03   \n",
       "max                 14800.000000  2.267184e+07  3.290860e+06   \n",
       "\n",
       "       total_nameplate_kw_dc  expected_kwh_annual_production  \n",
       "count           84721.000000                    8.472100e+04  \n",
       "mean               24.660494                    2.874277e+04  \n",
       "std               194.741712                    2.270106e+05  \n",
       "min                 0.140000                    1.640000e+02  \n",
       "25%                 5.100000                    5.987000e+03  \n",
       "50%                 7.140000                    8.381000e+03  \n",
       "75%                 9.920000                    1.164400e+04  \n",
       "max              5799.420000                    6.807591e+06  "
      ]
     },
     "execution_count": 22,
     "metadata": {},
     "output_type": "execute_result"
    }
   ],
   "source": [
    "df_solar.describe()"
   ]
  },
  {
   "cell_type": "code",
   "execution_count": 23,
   "id": "496681e1",
   "metadata": {},
   "outputs": [
    {
     "data": {
      "text/plain": [
       "<bound method NDFrame.to_clipboard of               index      zip_code  total_inverter_quantity  \\\n",
       "count  84721.000000  84721.000000             80661.000000   \n",
       "mean   42360.000000  11928.055110                 8.467078   \n",
       "std    24456.990415   1091.919839                15.901317   \n",
       "min        0.000000    501.000000                 1.000000   \n",
       "25%    21180.000000  11233.000000                 1.000000   \n",
       "50%    42360.000000  11758.000000                 1.000000   \n",
       "75%    63540.000000  12498.000000                12.000000   \n",
       "max    84720.000000  15787.000000               800.000000   \n",
       "\n",
       "       total_pv_ module_quantity  project_cost     incentive  \\\n",
       "count               80683.000000  8.453400e+04  8.470700e+04   \n",
       "mean                   74.635723  7.349231e+04  1.398508e+04   \n",
       "std                   551.596685  3.854108e+05  7.625908e+04   \n",
       "min                     1.000000  1.500000e+02  0.000000e+00   \n",
       "25%                    19.000000  2.295000e+04  2.070000e+03   \n",
       "50%                    26.000000  3.240000e+04  3.780000e+03   \n",
       "75%                    36.000000  4.579200e+04  8.160000e+03   \n",
       "max                 14800.000000  2.267184e+07  3.290860e+06   \n",
       "\n",
       "       total_nameplate_kw_dc  expected_kwh_annual_production  \n",
       "count           84721.000000                    8.472100e+04  \n",
       "mean               24.660494                    2.874277e+04  \n",
       "std               194.741712                    2.270106e+05  \n",
       "min                 0.140000                    1.640000e+02  \n",
       "25%                 5.100000                    5.987000e+03  \n",
       "50%                 7.140000                    8.381000e+03  \n",
       "75%                 9.920000                    1.164400e+04  \n",
       "max              5799.420000                    6.807591e+06  >"
      ]
     },
     "execution_count": 23,
     "metadata": {},
     "output_type": "execute_result"
    }
   ],
   "source": [
    "df_solar.describe().to_clipboard"
   ]
  },
  {
   "cell_type": "code",
   "execution_count": 24,
   "id": "bd3b511b",
   "metadata": {},
   "outputs": [
    {
     "data": {
      "text/plain": [
       "28742.77206359698"
      ]
     },
     "execution_count": 24,
     "metadata": {},
     "output_type": "execute_result"
    }
   ],
   "source": [
    "df_solar['expected_kwh_annual_production'].mean()"
   ]
  },
  {
   "cell_type": "code",
   "execution_count": 25,
   "id": "c80361bd",
   "metadata": {},
   "outputs": [],
   "source": [
    "program_frequency=df_solar.groupby('program_type').agg({'project_cost':['mean','median','min','max']})"
   ]
  },
  {
   "cell_type": "code",
   "execution_count": 26,
   "id": "6e66bf96",
   "metadata": {},
   "outputs": [
    {
     "data": {
      "text/html": [
       "<div>\n",
       "<style scoped>\n",
       "    .dataframe tbody tr th:only-of-type {\n",
       "        vertical-align: middle;\n",
       "    }\n",
       "\n",
       "    .dataframe tbody tr th {\n",
       "        vertical-align: top;\n",
       "    }\n",
       "\n",
       "    .dataframe thead tr th {\n",
       "        text-align: left;\n",
       "    }\n",
       "\n",
       "    .dataframe thead tr:last-of-type th {\n",
       "        text-align: right;\n",
       "    }\n",
       "</style>\n",
       "<table border=\"1\" class=\"dataframe\">\n",
       "  <thead>\n",
       "    <tr>\n",
       "      <th></th>\n",
       "      <th colspan=\"4\" halign=\"left\">project_cost</th>\n",
       "    </tr>\n",
       "    <tr>\n",
       "      <th></th>\n",
       "      <th>mean</th>\n",
       "      <th>median</th>\n",
       "      <th>min</th>\n",
       "      <th>max</th>\n",
       "    </tr>\n",
       "    <tr>\n",
       "      <th>program_type</th>\n",
       "      <th></th>\n",
       "      <th></th>\n",
       "      <th></th>\n",
       "      <th></th>\n",
       "    </tr>\n",
       "  </thead>\n",
       "  <tbody>\n",
       "    <tr>\n",
       "      <th>Commercial/Industrial (Competitive)</th>\n",
       "      <td>2.388359e+06</td>\n",
       "      <td>1485792.00</td>\n",
       "      <td>135004.63</td>\n",
       "      <td>9962128.0</td>\n",
       "    </tr>\n",
       "    <tr>\n",
       "      <th>Commercial/Industrial (MW Block)</th>\n",
       "      <td>4.106738e+06</td>\n",
       "      <td>4471836.63</td>\n",
       "      <td>219124.28</td>\n",
       "      <td>22671836.0</td>\n",
       "    </tr>\n",
       "    <tr>\n",
       "      <th>Residential/Small Commercial</th>\n",
       "      <td>4.522856e+04</td>\n",
       "      <td>32200.00</td>\n",
       "      <td>150.00</td>\n",
       "      <td>5193440.0</td>\n",
       "    </tr>\n",
       "  </tbody>\n",
       "</table>\n",
       "</div>"
      ],
      "text/plain": [
       "                                     project_cost                         \\\n",
       "                                             mean      median        min   \n",
       "program_type                                                               \n",
       "Commercial/Industrial (Competitive)  2.388359e+06  1485792.00  135004.63   \n",
       "Commercial/Industrial (MW Block)     4.106738e+06  4471836.63  219124.28   \n",
       "Residential/Small Commercial         4.522856e+04    32200.00     150.00   \n",
       "\n",
       "                                                 \n",
       "                                            max  \n",
       "program_type                                     \n",
       "Commercial/Industrial (Competitive)   9962128.0  \n",
       "Commercial/Industrial (MW Block)     22671836.0  \n",
       "Residential/Small Commercial          5193440.0  "
      ]
     },
     "execution_count": 26,
     "metadata": {},
     "output_type": "execute_result"
    }
   ],
   "source": [
    "program_frequency"
   ]
  },
  {
   "cell_type": "code",
   "execution_count": 27,
   "id": "9dfa3073",
   "metadata": {},
   "outputs": [
    {
     "data": {
      "text/plain": [
       "<bound method NDFrame.to_clipboard of                                      project_cost                         \\\n",
       "                                             mean      median        min   \n",
       "program_type                                                               \n",
       "Commercial/Industrial (Competitive)  2.388359e+06  1485792.00  135004.63   \n",
       "Commercial/Industrial (MW Block)     4.106738e+06  4471836.63  219124.28   \n",
       "Residential/Small Commercial         4.522856e+04    32200.00     150.00   \n",
       "\n",
       "                                                 \n",
       "                                            max  \n",
       "program_type                                     \n",
       "Commercial/Industrial (Competitive)   9962128.0  \n",
       "Commercial/Industrial (MW Block)     22671836.0  \n",
       "Residential/Small Commercial          5193440.0  >"
      ]
     },
     "execution_count": 27,
     "metadata": {},
     "output_type": "execute_result"
    }
   ],
   "source": [
    "program_frequency.to_clipboard"
   ]
  },
  {
   "cell_type": "markdown",
   "id": "7b1990b1",
   "metadata": {},
   "source": [
    "### 7. Checking Distribution"
   ]
  },
  {
   "cell_type": "code",
   "execution_count": 28,
   "id": "78856dc3",
   "metadata": {},
   "outputs": [
    {
     "data": {
      "text/plain": [
       "Text(0.5, 1.0, 'Expected Annual Production in KWh')"
      ]
     },
     "execution_count": 28,
     "metadata": {},
     "output_type": "execute_result"
    },
    {
     "data": {
      "image/png": "[encoded data removed]",
      "text/plain": [
       "<Figure size 640x480 with 1 Axes>"
      ]
     },
     "metadata": {},
     "output_type": "display_data"
    }
   ],
   "source": [
    "#Creating an histogram of expected_kwh_annual_production to check distribuition\n",
    "hist_cost=df_solar['expected_kwh_annual_production'].plot.hist(color='#fb8500', bins = 3)\n",
    "plt.xlabel('Annual Production', fontsize=10)\n",
    "plt.title('Expected Annual Production in KWh')"
   ]
  },
  {
   "cell_type": "code",
   "execution_count": 29,
   "id": "078c47ec",
   "metadata": {},
   "outputs": [
    {
     "data": {
      "text/plain": [
       "<AxesSubplot:>"
      ]
     },
     "execution_count": 29,
     "metadata": {},
     "output_type": "execute_result"
    },
    {
     "data": {
      "image/png": "[encoded data removed]",
      "text/plain": [
       "<Figure size 640x480 with 1 Axes>"
      ]
     },
     "metadata": {},
     "output_type": "display_data"
    }
   ],
   "source": [
    "#creating a simple box plot to check distribuition and outliers for project cost\n",
    "df_solar ['project_cost'].plot(kind='box')"
   ]
  },
  {
   "cell_type": "markdown",
   "id": "8a67ebb0",
   "metadata": {},
   "source": [
    "Sources for boxplot in Python: https://towardsdatascience.com/creating-boxplots-of-well-log-data-using-matplotlib-in-python-34c3816e73f4"
   ]
  },
  {
   "cell_type": "code",
   "execution_count": 30,
   "id": "2bd35f0f",
   "metadata": {},
   "outputs": [
    {
     "data": {
      "text/plain": [
       "[]"
      ]
     },
     "execution_count": 30,
     "metadata": {},
     "output_type": "execute_result"
    },
    {
     "data": {
      "image/png": "[encoded data removed]",
      "text/plain": [
       "<Figure size 640x480 with 1 Axes>"
      ]
     },
     "metadata": {},
     "output_type": "display_data"
    }
   ],
   "source": [
    "#adding the y-axis to a logarithmic scale by adding plt.semiology () method from matplotlib notation, the view of outliers becaumes clearer\n",
    "df_solar['project_cost'].plot(kind='box')\n",
    "plt.semilogy()"
   ]
  },
  {
   "cell_type": "markdown",
   "id": "087cc4ce",
   "metadata": {},
   "source": [
    "Exploratory visuals indicate the distribuition is right-skewed, because the wisker is shorter on the upper end of the box, although the median is in the middle of the box. There are many outliers on the higher end. This is also indicated in the histogram above."
   ]
  },
  {
   "cell_type": "code",
   "execution_count": 94,
   "id": "beffd929",
   "metadata": {},
   "outputs": [
    {
     "data": {
      "text/plain": [
       "<AxesSubplot:>"
      ]
     },
     "execution_count": 94,
     "metadata": {},
     "output_type": "execute_result"
    },
    {
     "data": {
      "image/png": "[encoded data removed]",
      "text/plain": [
       "<Figure size 640x480 with 1 Axes>"
      ]
     },
     "metadata": {},
     "output_type": "display_data"
    }
   ],
   "source": [
    "#making boxplots horizontal\n",
    "df_solar['project_cost'].plot(kind='box', vert=False)"
   ]
  },
  {
   "cell_type": "markdown",
   "id": "7abcb51b",
   "metadata": {},
   "source": [
    "### 8. Exporting data to a pickle file"
   ]
  },
  {
   "cell_type": "code",
   "execution_count": 95,
   "id": "c008ef51",
   "metadata": {},
   "outputs": [],
   "source": [
    "df_solar.to_pickle(os.path.join(path, '02. Prepared data', 'solar_power.pkl'))"
   ]
  },
  {
   "cell_type": "markdown",
   "id": "a47e35e4",
   "metadata": {},
   "source": [
    "In conclusion, data cleaning has resulted in the identification of variables with missing values, in a dataset that has a significant amount of outlier values which will need to be addressed. "
   ]
  },
  {
   "cell_type": "code",
   "execution_count": null,
   "id": "766fceac",
   "metadata": {},
   "outputs": [],
   "source": []
  }
 ],
 "metadata": {
  "kernelspec": {
   "display_name": "Python 3 (ipykernel)",
   "language": "python",
   "name": "python3"
  },
  "language_info": {
   "codemirror_mode": {
    "name": "ipython",
    "version": 3
   },
   "file_extension": ".py",
   "mimetype": "text/x-python",
   "name": "python",
   "nbconvert_exporter": "python",
   "pygments_lexer": "ipython3",
   "version": "3.9.13"
  }
 },
 "nbformat": 4,
 "nbformat_minor": 5
}
